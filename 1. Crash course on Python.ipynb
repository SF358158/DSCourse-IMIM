{
 "cells": [
  {
   "cell_type": "markdown",
   "metadata": {
    "slideshow": {
     "slide_type": "slide"
    }
   },
   "source": [
    "# A crash course on Python for Data Analysis\n",
    "\n",
    "1.\tPython basic programming:\n",
    "    + Python modules or how to extend the instruction set\n",
    "    + Data Types and Operations.\n",
    "    + A program in Python\n",
    "    + A function in Python\n",
    "    + Slicing\n",
    "    + References\n",
    "    + Comprehensions\n",
    "    + Generators\n",
    "    + Objects\n",
    "    + Reading Data"
   ]
  },
  {
   "cell_type": "markdown",
   "metadata": {},
   "source": [
    "*Installation:* For new users who want to get up and running with minimal effort, we suggest you to download and install Anaconda (http://docs.continuum.io/anaconda/) which provide a setup based on Python 3.6. Anaconda is a free collection of powerful packages for Python that enables large-scale data management, analysis, and visualization for Business Intelligence, Scientific Analysis, Engineering, Machine Learning, and more.\n",
    "</div>\n"
   ]
  },
  {
   "cell_type": "markdown",
   "metadata": {
    "slideshow": {
     "slide_type": "slide"
    }
   },
   "source": [
    "## Python\n",
    "\n",
    "Once you have IPython installed, you are ready to perform all sorts of operations. \n",
    "\n",
    "The software program that you use to invoke operators is called an **interpreter**. You enter your commands as a ‘dialog’ between you and the interpreter. Commands can be entered as part of a script (a text file with a list of commands to perform) or directly at the *cell*. \n",
    "\n",
    "In order to ask to the interpreter what to do, you must **invoke** an operator:"
   ]
  },
  {
   "cell_type": "code",
   "execution_count": 1,
   "metadata": {
    "ExecuteTime": {
     "end_time": "2019-11-12T10:41:48.318547Z",
     "start_time": "2019-11-12T10:41:48.306811Z"
    },
    "slideshow": {
     "slide_type": "subslide"
    }
   },
   "outputs": [
    {
     "data": {
      "text/plain": [
       "16"
      ]
     },
     "execution_count": 1,
     "metadata": {},
     "output_type": "execute_result"
    }
   ],
   "source": [
    "3 + 4 + 9"
   ]
  },
  {
   "cell_type": "code",
   "execution_count": 2,
   "metadata": {
    "ExecuteTime": {
     "end_time": "2019-11-12T10:41:49.026010Z",
     "start_time": "2019-11-12T10:41:49.020777Z"
    },
    "slideshow": {
     "slide_type": "slide"
    }
   },
   "outputs": [
    {
     "data": {
      "text/plain": [
       "[0, 1, 2, 3, 4, 5, 6, 7, 8, 9]"
      ]
     },
     "execution_count": 2,
     "metadata": {},
     "output_type": "execute_result"
    }
   ],
   "source": [
    "list(range(10))"
   ]
  },
  {
   "cell_type": "markdown",
   "metadata": {
    "slideshow": {
     "slide_type": "slide"
    }
   },
   "source": [
    "It’s helpful to think of the computation carried out by an operator as involving four parts:\n",
    "\n",
    "+ The name of the operator\n",
    "+ The input arguments\n",
    "+ The output value\n",
    "+ Side effects\n",
    "\n",
    "A typical operation takes one or more input arguments and uses the information in these to produce an output value. Along the way, the computer might take some action: display a graph, store a file, make a sound, etc. These actions are called side effects."
   ]
  },
  {
   "cell_type": "markdown",
   "metadata": {},
   "source": [
    "### Modules\n",
    "\n",
    "Python is a general-purpose programming language, so when we want to use more specific commands (such as statistical operators or string processing oeprators) we usually need to import them before we can use them. For Scientific Python, one of the most important libraries that we need is **numpy** (Numerical Python), which can be loaded like this:"
   ]
  },
  {
   "cell_type": "code",
   "execution_count": 3,
   "metadata": {
    "ExecuteTime": {
     "end_time": "2019-11-12T10:41:51.267424Z",
     "start_time": "2019-11-12T10:41:50.763455Z"
    }
   },
   "outputs": [
    {
     "data": {
      "text/plain": [
       "5.0"
      ]
     },
     "execution_count": 3,
     "metadata": {},
     "output_type": "execute_result"
    }
   ],
   "source": [
    "import numpy as np\n",
    "np.sqrt(25)"
   ]
  },
  {
   "cell_type": "code",
   "execution_count": 4,
   "metadata": {
    "ExecuteTime": {
     "end_time": "2019-11-12T10:41:51.276662Z",
     "start_time": "2019-11-12T10:41:51.269967Z"
    }
   },
   "outputs": [
    {
     "data": {
      "text/plain": [
       "array([0, 1, 2, 3, 4, 5, 6, 7, 8, 9])"
      ]
     },
     "execution_count": 4,
     "metadata": {},
     "output_type": "execute_result"
    }
   ],
   "source": [
    "np.arange(10)"
   ]
  },
  {
   "cell_type": "markdown",
   "metadata": {},
   "source": [
    "Access to the functions, variables and classes of a module depends on the way the module was imported:"
   ]
  },
  {
   "cell_type": "code",
   "execution_count": 5,
   "metadata": {
    "ExecuteTime": {
     "end_time": "2019-11-12T10:41:51.551310Z",
     "start_time": "2019-11-12T10:41:51.541347Z"
    }
   },
   "outputs": [
    {
     "data": {
      "text/plain": [
       "-1.0"
      ]
     },
     "execution_count": 5,
     "metadata": {},
     "output_type": "execute_result"
    }
   ],
   "source": [
    "import math\n",
    "math.cos(math.pi)"
   ]
  },
  {
   "cell_type": "code",
   "execution_count": 6,
   "metadata": {
    "ExecuteTime": {
     "end_time": "2019-11-12T10:41:52.511670Z",
     "start_time": "2019-11-12T10:41:52.507989Z"
    }
   },
   "outputs": [
    {
     "data": {
      "text/plain": [
       "-1.0"
      ]
     },
     "execution_count": 6,
     "metadata": {},
     "output_type": "execute_result"
    }
   ],
   "source": [
    "import math as m  # import using an alias\n",
    "m.cos(m.pi)"
   ]
  },
  {
   "cell_type": "code",
   "execution_count": 7,
   "metadata": {
    "ExecuteTime": {
     "end_time": "2019-11-12T10:41:52.771942Z",
     "start_time": "2019-11-12T10:41:52.768005Z"
    }
   },
   "outputs": [
    {
     "data": {
      "text/plain": [
       "-1.0"
      ]
     },
     "execution_count": 7,
     "metadata": {},
     "output_type": "execute_result"
    }
   ],
   "source": [
    "from math import cos,pi # import only some functions\n",
    "cos(pi)"
   ]
  },
  {
   "cell_type": "code",
   "execution_count": 8,
   "metadata": {
    "ExecuteTime": {
     "end_time": "2019-11-12T10:41:53.097957Z",
     "start_time": "2019-11-12T10:41:53.093018Z"
    }
   },
   "outputs": [
    {
     "data": {
      "text/plain": [
       "-1.0"
      ]
     },
     "execution_count": 8,
     "metadata": {},
     "output_type": "execute_result"
    }
   ],
   "source": [
    "from math import *   # global import\n",
    "cos(pi)"
   ]
  },
  {
   "cell_type": "markdown",
   "metadata": {},
   "source": [
    "### Objects\n",
    "\n",
    "Often the value returned by an operation will be used later on. Values can be stored for later use with the **assignment operator**:"
   ]
  },
  {
   "cell_type": "code",
   "execution_count": 9,
   "metadata": {
    "ExecuteTime": {
     "end_time": "2019-11-12T10:41:54.317160Z",
     "start_time": "2019-11-12T10:41:54.314965Z"
    }
   },
   "outputs": [],
   "source": [
    "a = 101"
   ]
  },
  {
   "cell_type": "markdown",
   "metadata": {},
   "source": [
    "The command has stored the value 101 under the name <code>a</code>. Such stored values are called **objects**. \n",
    "\n",
    "Making an assignment to an object defines the object. Once an object has been defined, it can be referred to and used in later computations. \n",
    "\n",
    "To refer to the value stored in the object, just use the object’s name itself. For instance:"
   ]
  },
  {
   "cell_type": "code",
   "execution_count": 10,
   "metadata": {
    "ExecuteTime": {
     "end_time": "2019-11-12T10:41:55.762707Z",
     "start_time": "2019-11-12T10:41:55.758657Z"
    }
   },
   "outputs": [
    {
     "data": {
      "text/plain": [
       "10.04987562112089"
      ]
     },
     "execution_count": 10,
     "metadata": {},
     "output_type": "execute_result"
    }
   ],
   "source": [
    "b = np.sqrt(a)\n",
    "b"
   ]
  },
  {
   "cell_type": "markdown",
   "metadata": {},
   "source": [
    "There are some general rules for object names:\n",
    "\n",
    "+ Use only letters and numbers and ‘underscores’ (_)\n",
    "+ Do NOT use spaces anywhere in the name\n",
    "+ A number cannot be the first character in the name\n",
    "+ Capital letters are treated as distinct from lower-case letters (i.e., Python is case-sensitive)"
   ]
  },
  {
   "cell_type": "code",
   "execution_count": 11,
   "metadata": {
    "ExecuteTime": {
     "end_time": "2019-11-12T10:41:57.006520Z",
     "start_time": "2019-11-12T10:41:56.998153Z"
    }
   },
   "outputs": [
    {
     "ename": "SyntaxError",
     "evalue": "invalid syntax (<ipython-input-11-f986eee6e224>, line 1)",
     "output_type": "error",
     "traceback": [
      "\u001b[0;36m  File \u001b[0;32m\"<ipython-input-11-f986eee6e224>\"\u001b[0;36m, line \u001b[0;32m1\u001b[0m\n\u001b[0;31m    3a = 10\u001b[0m\n\u001b[0m     ^\u001b[0m\n\u001b[0;31mSyntaxError\u001b[0m\u001b[0;31m:\u001b[0m invalid syntax\n"
     ]
    }
   ],
   "source": [
    "3a = 10"
   ]
  },
  {
   "cell_type": "markdown",
   "metadata": {},
   "source": [
    "### Dynamic Typing\n",
    "\n",
    "When you assign a new value to an existing object (*dynamic typing*), the former values of that object is erased from the computer memory. The former value of b was 10.0498756211, but after a new assignment:"
   ]
  },
  {
   "cell_type": "code",
   "execution_count": 12,
   "metadata": {
    "ExecuteTime": {
     "end_time": "2019-11-12T10:41:58.710935Z",
     "start_time": "2019-11-12T10:41:58.707590Z"
    }
   },
   "outputs": [
    {
     "name": "stdout",
     "output_type": "stream",
     "text": [
      "a\n"
     ]
    }
   ],
   "source": [
    "b = 'a'\n",
    "print(b)"
   ]
  },
  {
   "cell_type": "markdown",
   "metadata": {},
   "source": [
    "The value of an object is changed only via the assignment operator. Using an object in a computation does not change the value. "
   ]
  },
  {
   "cell_type": "markdown",
   "metadata": {},
   "source": [
    "The brilliant thing about organizing operators in terms of input arguments and output values is that the output of one operator can be used as an input to another. This lets complicated computations be built out of simpler ones.\n",
    "\n",
    "One way to connect the computations is by using objects to store the intermediate outputs:"
   ]
  },
  {
   "cell_type": "code",
   "execution_count": 13,
   "metadata": {
    "ExecuteTime": {
     "end_time": "2019-11-12T10:41:59.646466Z",
     "start_time": "2019-11-12T10:41:59.640731Z"
    }
   },
   "outputs": [
    {
     "data": {
      "text/plain": [
       "array([0.        , 1.        , 1.41421356, 1.73205081, 2.        ])"
      ]
     },
     "execution_count": 13,
     "metadata": {},
     "output_type": "execute_result"
    }
   ],
   "source": [
    "a = np.arange(5)\n",
    "np.sqrt(a)"
   ]
  },
  {
   "cell_type": "markdown",
   "metadata": {},
   "source": [
    "You can also pass the output of an operator directly as an argument to another operator:"
   ]
  },
  {
   "cell_type": "code",
   "execution_count": 14,
   "metadata": {
    "ExecuteTime": {
     "end_time": "2019-11-12T10:42:00.129552Z",
     "start_time": "2019-11-12T10:42:00.124012Z"
    }
   },
   "outputs": [
    {
     "data": {
      "text/plain": [
       "array([0.        , 1.        , 1.41421356, 1.73205081, 2.        ])"
      ]
     },
     "execution_count": 14,
     "metadata": {},
     "output_type": "execute_result"
    }
   ],
   "source": [
    "np.sqrt(np.arange(5))"
   ]
  },
  {
   "cell_type": "markdown",
   "metadata": {},
   "source": [
    "### Data Types\n",
    "\n",
    "Most of the examples used so far have dealt with numbers. But computers work with other kinds of information as well: text, photographs, sounds, sets of data, and so on. The word *type* is used to refer to the kind of information. \n",
    "\n",
    "It’s important to know about the types of data because operators expect their input arguments to be of specific types. When you use the wrong type of input, the computer might not be able to process your command."
   ]
  },
  {
   "cell_type": "markdown",
   "metadata": {},
   "source": [
    "For our purposes, it’s important to distinguish among several basic types:\n",
    "\n",
    "+ Numeric (positive and negative) data: \n",
    "    + decimal and fractional numbers (**floats**), <code>a = 3.5</code>\n",
    "    + arbitrary length whole numbers (**ints**):  <code>c=1809109863596239561236235625629561</code>\n",
    "+ **Strings** of textual data - you indicate string data to the computer by enclosing the text in quotation marks (e.g., <code>name = \"python\"</code>).\n",
    "+ **Boolean** data: <code>a = True</code> or <code>a = False</code>.\n",
    "+ **Complex** numbers: <code>a = 2+3j</code>\n",
    "+ Sequence types: **tuples, lists, sets, dictionaries** and **files**."
   ]
  },
  {
   "cell_type": "code",
   "execution_count": 15,
   "metadata": {
    "ExecuteTime": {
     "end_time": "2019-11-12T10:42:01.982769Z",
     "start_time": "2019-11-12T10:42:01.980502Z"
    }
   },
   "outputs": [],
   "source": [
    "a = 10"
   ]
  },
  {
   "cell_type": "code",
   "execution_count": 16,
   "metadata": {
    "ExecuteTime": {
     "end_time": "2019-11-12T10:42:02.266185Z",
     "start_time": "2019-11-12T10:42:02.263315Z"
    }
   },
   "outputs": [
    {
     "name": "stdout",
     "output_type": "stream",
     "text": [
      "a\n"
     ]
    }
   ],
   "source": [
    "a = 'a'\n",
    "print(a)"
   ]
  },
  {
   "cell_type": "markdown",
   "metadata": {},
   "source": [
    "### Operators\n",
    "\n",
    "+ Addition (also string, tuple and list concatenation) <code>a + b</code>\n",
    "+ Subtraction (also set difference): <code>a - b</code>\n",
    "+ Multiplication (also string, tuple and list replication): <code>a * b</code>\n",
    "+ Division: <code>a / b</code>\n",
    "+ Truncated integer division (rounded towards minus infinity): <code>a // b</code>\n",
    "+ Modulus or remainder: <code>a % b</code>\n",
    "+ Exponentiation: <code>a ** b</code>\n",
    "+ Assignment: <code>=</code>, <code>-=</code>, <code>+=</code>,<code>/=</code>,<code>*=</code>, <code>%=</code>, <code>//=</code>, <code>**=</code>\n",
    "+ Boolean comparisons: <code>==</code>, <code>!=</code>, <code><</code>,<code>></code>,<code><=</code>, <code>>=</code>\n",
    "+ Boolean operators: <code>and</code>, <code>or</code>, <code>not</code>\n",
    "+ Membership test operators: <code>in</code>, <code>not in</code>\n",
    "+ Object identity operators: <code>is</code>, <code>is not</code>\n",
    "+ Bitwise operators (or, xor, and, complement): <code>|</code>, <code>^</code>, <code>&</code>, <code>~</code>\n",
    "+ Left and right bit shift: <code><<</code>, <code>>></code>"
   ]
  },
  {
   "cell_type": "markdown",
   "metadata": {},
   "source": [
    "### Python as a calculator\n",
    "\n",
    "The Python language has a concise notation for arithmetic that looks very much like the traditional one."
   ]
  },
  {
   "cell_type": "code",
   "execution_count": 17,
   "metadata": {
    "ExecuteTime": {
     "end_time": "2019-11-12T10:42:55.116593Z",
     "start_time": "2019-11-12T10:42:55.106964Z"
    }
   },
   "outputs": [
    {
     "name": "stdout",
     "output_type": "stream",
     "text": [
      "5 -28.0 1.6666666666666667 1.6666666666666667\n"
     ]
    }
   ],
   "source": [
    "a = 3+2\n",
    "b= 3.5 * -8\n",
    "c = 10/6\n",
    "print(a, b, c, 10./6.)"
   ]
  },
  {
   "cell_type": "markdown",
   "metadata": {},
   "source": [
    "Some math functions are not available in the basic Python module, and they need to be imported from a specific module:"
   ]
  },
  {
   "cell_type": "code",
   "execution_count": 18,
   "metadata": {
    "ExecuteTime": {
     "end_time": "2019-11-12T10:42:56.369130Z",
     "start_time": "2019-11-12T10:42:56.366135Z"
    }
   },
   "outputs": [
    {
     "name": "stdout",
     "output_type": "stream",
     "text": [
      "5.635227012480034\n"
     ]
    }
   ],
   "source": [
    "import math   # this instruction is not executed if the module has already been imported\n",
    "print(math.pi + math.sin(100) + math.ceil(2.3))"
   ]
  },
  {
   "cell_type": "markdown",
   "metadata": {},
   "source": [
    "### A program in Python\n",
    "\n",
    "General Rules:\n",
    "\n",
    "+ All text from a <code>#</code> simbol to the end of a line are considered as comments.\n",
    "+ Code must be **indented** and sometimes delineated by colons. The Python standard for indentation is four spaces. Never use tabs: it can produce hard to find errors. Set you editor to convert tabs to spaces.\n",
    "+ Typically, a statement must be on a line. You can use a backslash <code>\\</code> at the end of a line to continue a statement on to the next line.\n"
   ]
  },
  {
   "cell_type": "code",
   "execution_count": 19,
   "metadata": {
    "ExecuteTime": {
     "end_time": "2019-11-12T10:42:57.653765Z",
     "start_time": "2019-11-12T10:42:57.649576Z"
    }
   },
   "outputs": [
    {
     "name": "stdout",
     "output_type": "stream",
     "text": [
      "93326215443944152681699238856266700490715968264381621468592963895217599993229915608941463976156518286253697920827223758251185210916864000000000000000000000000\n"
     ]
    }
   ],
   "source": [
    "# This program computes the factorial of 100.\n",
    "\n",
    "fact = 1\n",
    "n= 100\n",
    "for factor in range(n,0,-1):\n",
    "    fact = fact * \\\n",
    "    factor \n",
    "print(fact)    "
   ]
  },
  {
   "cell_type": "code",
   "execution_count": 20,
   "metadata": {
    "ExecuteTime": {
     "end_time": "2019-11-12T10:42:58.463191Z",
     "start_time": "2019-11-12T10:42:58.459413Z"
    }
   },
   "outputs": [
    {
     "data": {
      "text/plain": [
       "[10, 9, 8, 7, 6, 5, 4, 3, 2, 1]"
      ]
     },
     "execution_count": 20,
     "metadata": {},
     "output_type": "execute_result"
    }
   ],
   "source": [
    "list(range(10,0,-1))"
   ]
  },
  {
   "cell_type": "markdown",
   "metadata": {},
   "source": [
    "<div class=\"alert alert-error\"> When we write a colon at the end of an iteration, all lines indented at the next level are considered *part* of the iteration. \n",
    "\n",
    "When we write a line at the same indentation as the iteration, we are closing the iteration.</div>"
   ]
  },
  {
   "cell_type": "markdown",
   "metadata": {},
   "source": [
    "### A function in Python\n",
    "\n"
   ]
  },
  {
   "cell_type": "markdown",
   "metadata": {},
   "source": [
    "#### Factorial\n",
    "\n",
    "The factorial of a non-negative integer $n$, denoted by $n!$, is the product of all positive integers less than or equal to $n$.  "
   ]
  },
  {
   "cell_type": "code",
   "execution_count": 21,
   "metadata": {
    "ExecuteTime": {
     "end_time": "2019-11-12T10:43:00.754598Z",
     "start_time": "2019-11-12T10:43:00.745433Z"
    }
   },
   "outputs": [],
   "source": [
    "def factorial(n):\n",
    "    fact = 1\n",
    "    for factor in range(n,0,-1):\n",
    "        fact = fact * factor\n",
    "    return fact"
   ]
  },
  {
   "cell_type": "code",
   "execution_count": 22,
   "metadata": {
    "ExecuteTime": {
     "end_time": "2019-11-12T10:43:01.850149Z",
     "start_time": "2019-11-12T10:43:01.846340Z"
    }
   },
   "outputs": [
    {
     "data": {
      "text/plain": [
       "93326215443944152681699238856266700490715968264381621468592963895217599993229915608941463976156518286253697920827223758251185210916864000000000000000000000000"
      ]
     },
     "execution_count": 22,
     "metadata": {},
     "output_type": "execute_result"
    }
   ],
   "source": [
    "factorial(100)"
   ]
  },
  {
   "cell_type": "markdown",
   "metadata": {},
   "source": [
    "#### Fibonacci\n",
    "\n",
    "The Fibonacci Sequence is the series of numbers: 0, 1, 1, 2, 3, 5, 8, 13, 21, 34, ...\n",
    "\n",
    "The general rule to compute the sequence is very simple: The next number is found by adding up the two numbers before it."
   ]
  },
  {
   "cell_type": "code",
   "execution_count": 23,
   "metadata": {
    "ExecuteTime": {
     "end_time": "2019-11-12T10:43:02.978959Z",
     "start_time": "2019-11-12T10:43:02.970160Z"
    }
   },
   "outputs": [
    {
     "data": {
      "text/plain": [
       "6765"
      ]
     },
     "execution_count": 23,
     "metadata": {},
     "output_type": "execute_result"
    }
   ],
   "source": [
    "def fib1(n):\n",
    "    if n==1:\n",
    "        return 1\n",
    "    if n==0:\n",
    "        return 0\n",
    "    return fib1(n-1) + fib1(n-2)\n",
    "\n",
    "fib1(20)\n",
    "\n",
    "# this function cannot compute fib(100)"
   ]
  },
  {
   "cell_type": "code",
   "execution_count": 24,
   "metadata": {
    "ExecuteTime": {
     "end_time": "2019-11-12T10:43:03.855182Z",
     "start_time": "2019-11-12T10:43:03.848576Z"
    }
   },
   "outputs": [
    {
     "name": "stdout",
     "output_type": "stream",
     "text": [
      "43466557686937456435688527675040625802564660517371780402481729089536555417949051890403879840079255169295922593080322634775209689623239873322471161642996440906533187938298969649928516003704476137795166849228875\n"
     ]
    }
   ],
   "source": [
    "def fib2(n):\n",
    "    a, b = 0, 1\n",
    "    for i in range(1,n+1):\n",
    "        a, b = b, a + b\n",
    "    return a\n",
    "\n",
    "n = 1000\n",
    "if n<15:\n",
    "    print(fib1(n))\n",
    "else: \n",
    "    print(fib2(n))"
   ]
  },
  {
   "cell_type": "markdown",
   "metadata": {},
   "source": [
    "#### Greatest Common Divisor\n",
    "\n",
    "The greatest common divisor of two positive integers $a$ and $b$ is the largest divisor common to $a$ and $b$.  The Euclidean algorithm, or Euclid's algorithm, is an interative method for computing the greatest common divisor of two integers. \n",
    "\n",
    "+ If $a<b$, exchange $a$ and $b$.\n",
    "+ Divide $a$ by $b$ and get the remainder, $r$. If $r=0$, report $b$ as the GCD of $a$ and $b$.\n",
    "+ Replace $a$ by $b$ and replace $b$ by $r$. If $r \\neq 0$ iterate.\n",
    "\n"
   ]
  },
  {
   "cell_type": "code",
   "execution_count": 25,
   "metadata": {
    "ExecuteTime": {
     "end_time": "2019-11-12T10:43:05.589003Z",
     "start_time": "2019-11-12T10:43:05.580253Z"
    }
   },
   "outputs": [
    {
     "data": {
      "text/plain": [
       "4"
      ]
     },
     "execution_count": 25,
     "metadata": {},
     "output_type": "execute_result"
    }
   ],
   "source": [
    "def gcd(a,b): # Euclides algorithm v1.0: pseudocode translation\n",
    "    r = 1\n",
    "    while r != 0:\n",
    "        if a<b:\n",
    "            c=a\n",
    "            a=b\n",
    "            b=c\n",
    "        r = a%b \n",
    "        if r == 0:\n",
    "            return b\n",
    "        else:\n",
    "            a = b\n",
    "            b = r\n",
    "\n",
    "gcd(100,16)"
   ]
  },
  {
   "cell_type": "code",
   "execution_count": 26,
   "metadata": {
    "ExecuteTime": {
     "end_time": "2019-11-12T10:43:06.508248Z",
     "start_time": "2019-11-12T10:43:06.503290Z"
    }
   },
   "outputs": [
    {
     "data": {
      "text/plain": [
       "4"
      ]
     },
     "execution_count": 26,
     "metadata": {},
     "output_type": "execute_result"
    }
   ],
   "source": [
    "def gcd(a,b):   # Euclides algorithm v2.0: idiomatic Python\n",
    "    while a:\n",
    "        a, b = b%a, a\n",
    "    return b\n",
    "\n",
    "gcd(100,16)"
   ]
  },
  {
   "cell_type": "code",
   "execution_count": 27,
   "metadata": {
    "ExecuteTime": {
     "end_time": "2019-11-12T10:43:07.476210Z",
     "start_time": "2019-11-12T10:43:07.472366Z"
    }
   },
   "outputs": [
    {
     "data": {
      "text/plain": [
       "True"
      ]
     },
     "execution_count": 27,
     "metadata": {},
     "output_type": "execute_result"
    }
   ],
   "source": [
    "a = 0\n",
    "a == False"
   ]
  },
  {
   "cell_type": "markdown",
   "metadata": {},
   "source": [
    "### String processing with Python\n",
    "\n",
    "Strings are list of characters:"
   ]
  },
  {
   "cell_type": "code",
   "execution_count": 28,
   "metadata": {
    "ExecuteTime": {
     "end_time": "2019-11-12T10:43:08.690175Z",
     "start_time": "2019-11-12T10:43:08.686373Z"
    }
   },
   "outputs": [
    {
     "data": {
      "text/plain": [
       "str"
      ]
     },
     "execution_count": 28,
     "metadata": {},
     "output_type": "execute_result"
    }
   ],
   "source": [
    "a = 'python'\n",
    "type(a)"
   ]
  },
  {
   "cell_type": "code",
   "execution_count": 29,
   "metadata": {
    "ExecuteTime": {
     "end_time": "2019-11-12T10:43:09.050462Z",
     "start_time": "2019-11-12T10:43:09.047262Z"
    }
   },
   "outputs": [
    {
     "name": "stdout",
     "output_type": "stream",
     "text": [
      "Hello\n"
     ]
    }
   ],
   "source": [
    "print(\"Hello\")"
   ]
  },
  {
   "cell_type": "code",
   "execution_count": 30,
   "metadata": {
    "ExecuteTime": {
     "end_time": "2019-11-12T10:43:09.299940Z",
     "start_time": "2019-11-12T10:43:09.295060Z"
    }
   },
   "outputs": [
    {
     "name": "stdout",
     "output_type": "stream",
     "text": [
      "This is 'an example' of the use of quotes and double quotes\n",
      "This is \"another example\" of the use of quotes and double quotes\n"
     ]
    }
   ],
   "source": [
    "print(\"This is 'an example' of the use of quotes and double quotes\")\n",
    "print('This is \"another example\" of the use of quotes and double quotes')"
   ]
  },
  {
   "cell_type": "markdown",
   "metadata": {},
   "source": [
    "We can use the operator ``+`` to concatenate strings:"
   ]
  },
  {
   "cell_type": "code",
   "execution_count": 31,
   "metadata": {
    "ExecuteTime": {
     "end_time": "2019-11-12T10:43:10.152583Z",
     "start_time": "2019-11-12T10:43:10.149345Z"
    }
   },
   "outputs": [
    {
     "name": "stdout",
     "output_type": "stream",
     "text": [
      "Hello!\n"
     ]
    }
   ],
   "source": [
    "a = 'He'\n",
    "b = 'llo'\n",
    "c = a+b+'!'\n",
    "print(c)"
   ]
  },
  {
   "cell_type": "markdown",
   "metadata": {},
   "source": [
    "Substrings within a string can be accessed using **slicing**. Slicing uses ``[]`` to contain the indices of the characters in a string, where the first index is $0$, and the last is $n - 1$ (assuming the string has $n$ characters). "
   ]
  },
  {
   "cell_type": "code",
   "execution_count": 32,
   "metadata": {
    "ExecuteTime": {
     "end_time": "2019-11-12T10:43:10.737548Z",
     "start_time": "2019-11-12T10:43:10.733947Z"
    }
   },
   "outputs": [
    {
     "name": "stdout",
     "output_type": "stream",
     "text": [
      "Python y thon Pyt th Pto yhn\n"
     ]
    }
   ],
   "source": [
    "a = 'Python'\n",
    "print(a[:], a[1], a[2:], a[:3], a[2:4], a[::2], a[1::2])"
   ]
  },
  {
   "cell_type": "markdown",
   "metadata": {},
   "source": [
    "The most advanced string functiona are stored in an external module called ``string``"
   ]
  },
  {
   "cell_type": "code",
   "execution_count": 33,
   "metadata": {
    "ExecuteTime": {
     "end_time": "2019-11-12T10:43:11.280233Z",
     "start_time": "2019-11-12T10:43:11.252182Z"
    }
   },
   "outputs": [
    {
     "name": "stdout",
     "output_type": "stream",
     "text": [
      "Help on module string:\n",
      "\n",
      "NAME\n",
      "    string - A collection of string constants.\n",
      "\n",
      "MODULE REFERENCE\n",
      "    https://docs.python.org/3.6/library/string\n",
      "    \n",
      "    The following documentation is automatically generated from the Python\n",
      "    source files.  It may be incomplete, incorrect or include features that\n",
      "    are considered implementation detail and may vary between Python\n",
      "    implementations.  When in doubt, consult the module reference at the\n",
      "    location listed above.\n",
      "\n",
      "DESCRIPTION\n",
      "    Public module variables:\n",
      "    \n",
      "    whitespace -- a string containing all ASCII whitespace\n",
      "    ascii_lowercase -- a string containing all ASCII lowercase letters\n",
      "    ascii_uppercase -- a string containing all ASCII uppercase letters\n",
      "    ascii_letters -- a string containing all ASCII letters\n",
      "    digits -- a string containing all ASCII decimal digits\n",
      "    hexdigits -- a string containing all ASCII hexadecimal digits\n",
      "    octdigits -- a string containing all ASCII octal digits\n",
      "    punctuation -- a string containing all ASCII punctuation characters\n",
      "    printable -- a string containing all ASCII characters considered printable\n",
      "\n",
      "CLASSES\n",
      "    builtins.object\n",
      "        Formatter\n",
      "        Template\n",
      "    \n",
      "    class Formatter(builtins.object)\n",
      "     |  Methods defined here:\n",
      "     |  \n",
      "     |  check_unused_args(self, used_args, args, kwargs)\n",
      "     |  \n",
      "     |  convert_field(self, value, conversion)\n",
      "     |  \n",
      "     |  format(*args, **kwargs)\n",
      "     |  \n",
      "     |  format_field(self, value, format_spec)\n",
      "     |  \n",
      "     |  get_field(self, field_name, args, kwargs)\n",
      "     |      # given a field_name, find the object it references.\n",
      "     |      #  field_name:   the field being looked up, e.g. \"0.name\"\n",
      "     |      #                 or \"lookup[3]\"\n",
      "     |      #  used_args:    a set of which args have been used\n",
      "     |      #  args, kwargs: as passed in to vformat\n",
      "     |  \n",
      "     |  get_value(self, key, args, kwargs)\n",
      "     |  \n",
      "     |  parse(self, format_string)\n",
      "     |      # returns an iterable that contains tuples of the form:\n",
      "     |      # (literal_text, field_name, format_spec, conversion)\n",
      "     |      # literal_text can be zero length\n",
      "     |      # field_name can be None, in which case there's no\n",
      "     |      #  object to format and output\n",
      "     |      # if field_name is not None, it is looked up, formatted\n",
      "     |      #  with format_spec and conversion and then used\n",
      "     |  \n",
      "     |  vformat(self, format_string, args, kwargs)\n",
      "     |  \n",
      "     |  ----------------------------------------------------------------------\n",
      "     |  Data descriptors defined here:\n",
      "     |  \n",
      "     |  __dict__\n",
      "     |      dictionary for instance variables (if defined)\n",
      "     |  \n",
      "     |  __weakref__\n",
      "     |      list of weak references to the object (if defined)\n",
      "    \n",
      "    class Template(builtins.object)\n",
      "     |  A string class for supporting $-substitutions.\n",
      "     |  \n",
      "     |  Methods defined here:\n",
      "     |  \n",
      "     |  __init__(self, template)\n",
      "     |      Initialize self.  See help(type(self)) for accurate signature.\n",
      "     |  \n",
      "     |  safe_substitute(*args, **kws)\n",
      "     |  \n",
      "     |  substitute(*args, **kws)\n",
      "     |  \n",
      "     |  ----------------------------------------------------------------------\n",
      "     |  Data descriptors defined here:\n",
      "     |  \n",
      "     |  __dict__\n",
      "     |      dictionary for instance variables (if defined)\n",
      "     |  \n",
      "     |  __weakref__\n",
      "     |      list of weak references to the object (if defined)\n",
      "     |  \n",
      "     |  ----------------------------------------------------------------------\n",
      "     |  Data and other attributes defined here:\n",
      "     |  \n",
      "     |  delimiter = '$'\n",
      "     |  \n",
      "     |  flags = <RegexFlag.IGNORECASE: 2>\n",
      "     |  \n",
      "     |  idpattern = '(?-i:[_a-zA-Z][_a-zA-Z0-9]*)'\n",
      "     |  \n",
      "     |  pattern = re.compile('\\n    \\\\$(?:\\n      (?P<escaped>\\\\$)...(?P<brace...\n",
      "\n",
      "FUNCTIONS\n",
      "    capwords(s, sep=None)\n",
      "        capwords(s [,sep]) -> string\n",
      "        \n",
      "        Split the argument into words using split, capitalize each\n",
      "        word using capitalize, and join the capitalized words using\n",
      "        join.  If the optional second argument sep is absent or None,\n",
      "        runs of whitespace characters are replaced by a single space\n",
      "        and leading and trailing whitespace are removed, otherwise\n",
      "        sep is used to split and join the words.\n",
      "\n",
      "DATA\n",
      "    __all__ = ['ascii_letters', 'ascii_lowercase', 'ascii_uppercase', 'cap...\n",
      "    ascii_letters = 'abcdefghijklmnopqrstuvwxyzABCDEFGHIJKLMNOPQRSTUVWXYZ'\n",
      "    ascii_lowercase = 'abcdefghijklmnopqrstuvwxyz'\n",
      "    ascii_uppercase = 'ABCDEFGHIJKLMNOPQRSTUVWXYZ'\n",
      "    digits = '0123456789'\n",
      "    hexdigits = '0123456789abcdefABCDEF'\n",
      "    octdigits = '01234567'\n",
      "    printable = '0123456789abcdefghijklmnopqrstuvwxyzABCDEFGHIJKLMNOPQRSTU...\n",
      "    punctuation = '!\"#$%&\\'()*+,-./:;<=>?@[\\\\]^_`{|}~'\n",
      "    whitespace = ' \\t\\n\\r\\x0b\\x0c'\n",
      "\n",
      "FILE\n",
      "    /Users/jordivitria/anaconda3/lib/python3.6/string.py\n",
      "\n",
      "\n"
     ]
    }
   ],
   "source": [
    "import string as st\n",
    "help(st)"
   ]
  },
  {
   "cell_type": "code",
   "execution_count": 34,
   "metadata": {
    "ExecuteTime": {
     "end_time": "2019-11-12T10:43:11.862146Z",
     "start_time": "2019-11-12T10:43:11.859819Z"
    }
   },
   "outputs": [],
   "source": [
    "a = 'a'"
   ]
  },
  {
   "cell_type": "code",
   "execution_count": null,
   "metadata": {
    "collapsed": true
   },
   "outputs": [],
   "source": [
    "# press tab for help after .\n",
    "a."
   ]
  },
  {
   "cell_type": "code",
   "execution_count": 35,
   "metadata": {
    "ExecuteTime": {
     "end_time": "2019-11-12T10:43:19.277366Z",
     "start_time": "2019-11-12T10:43:19.274037Z"
    }
   },
   "outputs": [
    {
     "name": "stdout",
     "output_type": "stream",
     "text": [
      "hello\n"
     ]
    }
   ],
   "source": [
    "a='Hello'\n",
    "b = a.lower()\n",
    "print(b)"
   ]
  },
  {
   "cell_type": "code",
   "execution_count": 36,
   "metadata": {
    "ExecuteTime": {
     "end_time": "2019-11-12T10:43:20.234150Z",
     "start_time": "2019-11-12T10:43:20.229867Z"
    }
   },
   "outputs": [
    {
     "name": "stdout",
     "output_type": "stream",
     "text": [
      "abcdefghijklmnopqrstuvwxyzABCDEFGHIJKLMNOPQRSTUVWXYZ\n"
     ]
    },
    {
     "data": {
      "text/plain": [
       "True"
      ]
     },
     "execution_count": 36,
     "metadata": {},
     "output_type": "execute_result"
    }
   ],
   "source": [
    "print(st.ascii_letters)\n",
    "'a' in st.ascii_letters"
   ]
  },
  {
   "cell_type": "markdown",
   "metadata": {},
   "source": [
    "### Lists\n",
    "\n",
    "Lists are a built-in data type which require other data types to be useful. A list is a collection of other objects – floats, integers, complex numbers, strings or even other lists.\n",
    "\n",
    "Lists also support slicing to retrieve one or more elements. Basic lists are constructed using square braces, ``[]``, and values are separated using\n",
    "commas."
   ]
  },
  {
   "cell_type": "code",
   "execution_count": 37,
   "metadata": {
    "ExecuteTime": {
     "end_time": "2019-11-12T10:43:22.494366Z",
     "start_time": "2019-11-12T10:43:22.490476Z"
    }
   },
   "outputs": [
    {
     "data": {
      "text/plain": [
       "list"
      ]
     },
     "execution_count": 37,
     "metadata": {},
     "output_type": "execute_result"
    }
   ],
   "source": [
    "l=[]\n",
    "type(l)"
   ]
  },
  {
   "cell_type": "code",
   "execution_count": 38,
   "metadata": {
    "ExecuteTime": {
     "end_time": "2019-11-12T10:43:23.349646Z",
     "start_time": "2019-11-12T10:43:23.346249Z"
    }
   },
   "outputs": [
    {
     "name": "stdout",
     "output_type": "stream",
     "text": [
      "[[1, 2, 3, 4], 'jordi'] 1 jordi\n"
     ]
    }
   ],
   "source": [
    "x=[1,2,3,4,[1,2,3,4],'jordi']\n",
    "print(x[4:], x[0], x[5])"
   ]
  },
  {
   "cell_type": "code",
   "execution_count": 39,
   "metadata": {
    "ExecuteTime": {
     "end_time": "2019-11-12T10:43:24.070303Z",
     "start_time": "2019-11-12T10:43:24.066479Z"
    }
   },
   "outputs": [
    {
     "data": {
      "text/plain": [
       "[[1, 2, 3, 4], 'jordi']"
      ]
     },
     "execution_count": 39,
     "metadata": {},
     "output_type": "execute_result"
    }
   ],
   "source": [
    "x[-2:]  # The stride can also be negative which can be used to select the\n",
    "        # elements of a list in reverse order."
   ]
  },
  {
   "cell_type": "markdown",
   "metadata": {},
   "source": [
    "Lists can be multidimensional and slicing can be done directly in higher dimensions:"
   ]
  },
  {
   "cell_type": "code",
   "execution_count": 40,
   "metadata": {
    "ExecuteTime": {
     "end_time": "2019-11-12T10:43:25.047803Z",
     "start_time": "2019-11-12T10:43:25.044448Z"
    }
   },
   "outputs": [
    {
     "name": "stdout",
     "output_type": "stream",
     "text": [
      "[1, 2, 3, 4] 1\n"
     ]
    }
   ],
   "source": [
    "x = [[1,2,3,4], [5,6,7,8]]\n",
    "print(x[0], x[0][0])"
   ]
  },
  {
   "cell_type": "markdown",
   "metadata": {},
   "source": [
    "### Help: Python Tutorial"
   ]
  },
  {
   "cell_type": "code",
   "execution_count": 41,
   "metadata": {
    "ExecuteTime": {
     "end_time": "2019-11-12T10:43:26.359303Z",
     "start_time": "2019-11-12T10:43:26.355395Z"
    }
   },
   "outputs": [
    {
     "data": {
      "text/html": [
       "<iframe src=http://docs.python.org/3/tutorial/index.html?useformat=mobile width=780 height=350></iframe>"
      ],
      "text/plain": [
       "<IPython.core.display.HTML object>"
      ]
     },
     "execution_count": 41,
     "metadata": {},
     "output_type": "execute_result"
    }
   ],
   "source": [
    "from IPython.display import HTML\n",
    "HTML('<iframe src=http://docs.python.org/3/tutorial/index.html?useformat=mobile width=780 height=350></iframe>')"
   ]
  },
  {
   "cell_type": "markdown",
   "metadata": {},
   "source": [
    "### Conditionals\n",
    "\n",
    "The conditional structure in Python is <code>If</code>. It is usally combined with \n",
    "relational operators: <code> <, <=, ==, >=, >, != </code>."
   ]
  },
  {
   "cell_type": "code",
   "execution_count": 42,
   "metadata": {
    "ExecuteTime": {
     "end_time": "2019-11-12T10:43:30.326758Z",
     "start_time": "2019-11-12T10:43:30.320647Z"
    }
   },
   "outputs": [
    {
     "name": "stdout",
     "output_type": "stream",
     "text": [
      "The temperature in Fahrenheit is 95.0\n",
      "It's really hot out there.\n"
     ]
    }
   ],
   "source": [
    "def main(celsius):\n",
    "    fahrenheit = 9.0 /5.0 * celsius + 32\n",
    "    print(\"The temperature in Fahrenheit is\", fahrenheit)\n",
    "    if fahrenheit > 90:\n",
    "        print(\"It's really hot out there.\")\n",
    "    elif fahrenheit < 30:\n",
    "        print(\"It's really cold out there.\")\n",
    "    else: pass\n",
    "        \n",
    "main(35)"
   ]
  },
  {
   "cell_type": "markdown",
   "metadata": {},
   "source": [
    "``If`` statesments can be combined with loops (``for``, ``while``):"
   ]
  },
  {
   "cell_type": "code",
   "execution_count": 43,
   "metadata": {
    "ExecuteTime": {
     "end_time": "2019-11-12T10:43:31.404949Z",
     "start_time": "2019-11-12T10:43:31.400443Z"
    }
   },
   "outputs": [
    {
     "name": "stdout",
     "output_type": "stream",
     "text": [
      "20\n"
     ]
    }
   ],
   "source": [
    "numbers = [-5, 3,2,-1,9,6]\n",
    "total = 0\n",
    "for n in numbers:\n",
    "    if n >= 0:\n",
    "        total += n\n",
    "print(total)"
   ]
  },
  {
   "cell_type": "code",
   "execution_count": 44,
   "metadata": {
    "ExecuteTime": {
     "end_time": "2019-11-12T10:43:31.701894Z",
     "start_time": "2019-11-12T10:43:31.696507Z"
    }
   },
   "outputs": [
    {
     "data": {
      "text/plain": [
       "2.5"
      ]
     },
     "execution_count": 44,
     "metadata": {},
     "output_type": "execute_result"
    }
   ],
   "source": [
    "def average(a):\n",
    "    sum = 0.0\n",
    "    for i in a:\n",
    "        sum = sum + i\n",
    "    return sum/len(a)\n",
    "\n",
    "average([1,2,3,4])"
   ]
  },
  {
   "cell_type": "code",
   "execution_count": 45,
   "metadata": {
    "ExecuteTime": {
     "end_time": "2019-11-12T10:43:31.938613Z",
     "start_time": "2019-11-12T10:43:31.933021Z"
    }
   },
   "outputs": [
    {
     "name": "stdout",
     "output_type": "stream",
     "text": [
      "4 0\n"
     ]
    }
   ],
   "source": [
    "def sumdif(x,y):\n",
    "    sum, dif = x+y, x-y\n",
    "    return sum, dif\n",
    "\n",
    "a, b = sumdif(2,2)\n",
    "print(a, b)"
   ]
  },
  {
   "cell_type": "code",
   "execution_count": 46,
   "metadata": {
    "ExecuteTime": {
     "end_time": "2019-11-12T10:43:32.141406Z",
     "start_time": "2019-11-12T10:43:32.132703Z"
    }
   },
   "outputs": [
    {
     "data": {
      "text/plain": [
       "3"
      ]
     },
     "execution_count": 46,
     "metadata": {},
     "output_type": "execute_result"
    }
   ],
   "source": [
    "def main(n):\n",
    "    cont = 0\n",
    "    while (int(n) > 0):\n",
    "        cont += 1\n",
    "        n = n/2\n",
    "#        print n\n",
    "    return cont-1\n",
    "\n",
    "main(10)\n",
    "# main(10.3)"
   ]
  },
  {
   "cell_type": "markdown",
   "metadata": {},
   "source": [
    "### Boolean operators."
   ]
  },
  {
   "cell_type": "code",
   "execution_count": 47,
   "metadata": {
    "ExecuteTime": {
     "end_time": "2019-11-12T10:43:32.901139Z",
     "start_time": "2019-11-12T10:43:32.896794Z"
    }
   },
   "outputs": [
    {
     "data": {
      "text/plain": [
       "True"
      ]
     },
     "execution_count": 47,
     "metadata": {},
     "output_type": "execute_result"
    }
   ],
   "source": [
    "a = 4\n",
    "b = 40\n",
    "(a>2) and (b>30)"
   ]
  },
  {
   "cell_type": "code",
   "execution_count": 48,
   "metadata": {
    "ExecuteTime": {
     "end_time": "2019-11-12T10:43:33.117095Z",
     "start_time": "2019-11-12T10:43:33.113289Z"
    }
   },
   "outputs": [
    {
     "data": {
      "text/plain": [
       "True"
      ]
     },
     "execution_count": 48,
     "metadata": {},
     "output_type": "execute_result"
    }
   ],
   "source": [
    "(a>2) or (b>100)"
   ]
  },
  {
   "cell_type": "code",
   "execution_count": 49,
   "metadata": {
    "ExecuteTime": {
     "end_time": "2019-11-12T10:43:33.374987Z",
     "start_time": "2019-11-12T10:43:33.370143Z"
    }
   },
   "outputs": [
    {
     "data": {
      "text/plain": [
       "False"
      ]
     },
     "execution_count": 49,
     "metadata": {},
     "output_type": "execute_result"
    }
   ],
   "source": [
    "not(a>2)"
   ]
  },
  {
   "cell_type": "markdown",
   "metadata": {},
   "source": [
    "### Data Collections\n",
    "\n",
    "We need to represent data collections: words in a text, students in a course, experimental data, etc., or to store intermediate results. The most simple data collection is the <code>list</code> (an ordered sequence of objects):"
   ]
  },
  {
   "cell_type": "code",
   "execution_count": 50,
   "metadata": {
    "ExecuteTime": {
     "end_time": "2019-11-12T10:43:34.622402Z",
     "start_time": "2019-11-12T10:43:34.618489Z"
    }
   },
   "outputs": [
    {
     "data": {
      "text/plain": [
       "[0, 1, 2, 3, 4, 5, 6, 7, 8, 9]"
      ]
     },
     "execution_count": 50,
     "metadata": {},
     "output_type": "execute_result"
    }
   ],
   "source": [
    "list(range(10))"
   ]
  },
  {
   "cell_type": "code",
   "execution_count": 51,
   "metadata": {
    "ExecuteTime": {
     "end_time": "2019-11-12T10:43:35.072281Z",
     "start_time": "2019-11-12T10:43:35.069045Z"
    }
   },
   "outputs": [
    {
     "name": "stdout",
     "output_type": "stream",
     "text": [
      "['This', 'is', 'an', 'example']\n"
     ]
    }
   ],
   "source": [
    "import string\n",
    "a = \"This is an example\"\n",
    "b = a.split()\n",
    "print(b)"
   ]
  },
  {
   "cell_type": "markdown",
   "metadata": {},
   "source": [
    "A list is an *ordered, mutable and dynamic* collection of *non-homogeneous* objects:"
   ]
  },
  {
   "cell_type": "code",
   "execution_count": 52,
   "metadata": {
    "ExecuteTime": {
     "end_time": "2019-11-12T10:43:35.847775Z",
     "start_time": "2019-11-12T10:43:35.844650Z"
    }
   },
   "outputs": [
    {
     "name": "stdout",
     "output_type": "stream",
     "text": [
      "[1, 1, 3, 4]\n"
     ]
    }
   ],
   "source": [
    "a = [1,2,3,4]\n",
    "a[1] = 1\n",
    "print(a)"
   ]
  },
  {
   "cell_type": "code",
   "execution_count": 53,
   "metadata": {
    "ExecuteTime": {
     "end_time": "2019-11-12T10:43:36.062351Z",
     "start_time": "2019-11-12T10:43:36.059411Z"
    }
   },
   "outputs": [
    {
     "name": "stdout",
     "output_type": "stream",
     "text": [
      "[1, 1, 3, 4, 'This', 'is', 'an', 'example']\n"
     ]
    }
   ],
   "source": [
    "c = a + b\n",
    "print(c)"
   ]
  },
  {
   "cell_type": "code",
   "execution_count": 54,
   "metadata": {
    "ExecuteTime": {
     "end_time": "2019-11-12T10:43:36.242903Z",
     "start_time": "2019-11-12T10:43:36.238628Z"
    }
   },
   "outputs": [
    {
     "name": "stdout",
     "output_type": "stream",
     "text": [
      "[0, 0, 0, 0, 0]\n"
     ]
    }
   ],
   "source": [
    "zeroes = [0] * 10\n",
    "del zeroes[5:]\n",
    "print(zeroes)"
   ]
  },
  {
   "cell_type": "code",
   "execution_count": 55,
   "metadata": {
    "ExecuteTime": {
     "end_time": "2019-11-12T10:43:36.490779Z",
     "start_time": "2019-11-12T10:43:36.486270Z"
    }
   },
   "outputs": [
    {
     "name": "stdout",
     "output_type": "stream",
     "text": [
      "[0, 0, 0, 0, 0, 1]\n"
     ]
    }
   ],
   "source": [
    "zeroes.append(1)\n",
    "print(zeroes)"
   ]
  },
  {
   "cell_type": "code",
   "execution_count": 56,
   "metadata": {
    "ExecuteTime": {
     "end_time": "2019-11-12T10:43:36.714783Z",
     "start_time": "2019-11-12T10:43:36.712152Z"
    }
   },
   "outputs": [
    {
     "name": "stdout",
     "output_type": "stream",
     "text": [
      "[0, 0, 0, 0, 0]\n"
     ]
    }
   ],
   "source": [
    "zeroes.remove(1)\n",
    "print(zeroes)"
   ]
  },
  {
   "cell_type": "code",
   "execution_count": 57,
   "metadata": {
    "ExecuteTime": {
     "end_time": "2019-11-12T10:43:36.917887Z",
     "start_time": "2019-11-12T10:43:36.914421Z"
    }
   },
   "outputs": [
    {
     "name": "stdout",
     "output_type": "stream",
     "text": [
      "True\n"
     ]
    }
   ],
   "source": [
    "if 1 in zeroes:\n",
    "    print(False)\n",
    "else: \n",
    "    print(True)"
   ]
  },
  {
   "cell_type": "markdown",
   "metadata": {},
   "source": [
    "### References\n",
    "\n",
    "We can inspect the reference of an object:"
   ]
  },
  {
   "cell_type": "code",
   "execution_count": 58,
   "metadata": {
    "ExecuteTime": {
     "end_time": "2019-11-12T10:43:37.792602Z",
     "start_time": "2019-11-12T10:43:37.789644Z"
    }
   },
   "outputs": [
    {
     "name": "stdout",
     "output_type": "stream",
     "text": [
      "4448674680\n"
     ]
    }
   ],
   "source": [
    "a ='hello'\n",
    "print(id(a))"
   ]
  },
  {
   "cell_type": "markdown",
   "metadata": {},
   "source": [
    "Two different objects:"
   ]
  },
  {
   "cell_type": "code",
   "execution_count": 59,
   "metadata": {
    "ExecuteTime": {
     "end_time": "2019-11-12T10:43:38.805371Z",
     "start_time": "2019-11-12T10:43:38.801879Z"
    }
   },
   "outputs": [
    {
     "name": "stdout",
     "output_type": "stream",
     "text": [
      "4448680200 4448744392\n"
     ]
    }
   ],
   "source": [
    "a = [1,2,3]\n",
    "b = [1,2,3]\n",
    "print(id(a), id(b))"
   ]
  },
  {
   "cell_type": "markdown",
   "metadata": {},
   "source": [
    "Object alias:"
   ]
  },
  {
   "cell_type": "code",
   "execution_count": 60,
   "metadata": {
    "ExecuteTime": {
     "end_time": "2019-11-12T10:43:39.750664Z",
     "start_time": "2019-11-12T10:43:39.746784Z"
    }
   },
   "outputs": [
    {
     "name": "stdout",
     "output_type": "stream",
     "text": [
      "4448747016 4448747016\n"
     ]
    }
   ],
   "source": [
    "a = [1,2,3]\n",
    "b = a                     # alias\n",
    "print(id(a), id(b))"
   ]
  },
  {
   "cell_type": "markdown",
   "metadata": {},
   "source": [
    "Cloning:"
   ]
  },
  {
   "cell_type": "code",
   "execution_count": 61,
   "metadata": {
    "ExecuteTime": {
     "end_time": "2019-11-12T10:43:40.538248Z",
     "start_time": "2019-11-12T10:43:40.534630Z"
    }
   },
   "outputs": [
    {
     "name": "stdout",
     "output_type": "stream",
     "text": [
      "[1, 2, 3] [1, 2, 3] [2, 3] 4448724424 4448355656 4448563848\n"
     ]
    }
   ],
   "source": [
    "a = [1,2,3]\n",
    "b = a[:]                  # cloning with :\n",
    "\n",
    "print(a, b, b[1:], id(a), id(b), id(b[1:]))"
   ]
  },
  {
   "cell_type": "markdown",
   "metadata": {},
   "source": [
    "When a list is an argument of a function, we are sending the *reference*, not a *copy*"
   ]
  },
  {
   "cell_type": "code",
   "execution_count": 62,
   "metadata": {
    "ExecuteTime": {
     "end_time": "2019-11-12T10:43:42.204318Z",
     "start_time": "2019-11-12T10:43:42.200671Z"
    }
   },
   "outputs": [
    {
     "name": "stdout",
     "output_type": "stream",
     "text": [
      "1 [1, 2, 3, 4]\n"
     ]
    }
   ],
   "source": [
    "def head(list):\n",
    "    return list[0]\n",
    "\n",
    "numbers=[1,2,3,4]\n",
    "print(head(numbers), numbers)"
   ]
  },
  {
   "cell_type": "code",
   "execution_count": 63,
   "metadata": {
    "ExecuteTime": {
     "end_time": "2019-11-12T10:43:43.060391Z",
     "start_time": "2019-11-12T10:43:43.056198Z"
    }
   },
   "outputs": [
    {
     "name": "stdout",
     "output_type": "stream",
     "text": [
      "[0, 2, 3, 4]\n"
     ]
    }
   ],
   "source": [
    "def change_first_element(list):\n",
    "    list[0]=0\n",
    "    \n",
    "numbers=[1,2,3,4]\n",
    "change_first_element(numbers)\n",
    "print(numbers)"
   ]
  },
  {
   "cell_type": "markdown",
   "metadata": {},
   "source": [
    "If we return a list we are returning a reference:"
   ]
  },
  {
   "cell_type": "code",
   "execution_count": 64,
   "metadata": {
    "ExecuteTime": {
     "end_time": "2019-11-12T10:43:44.253067Z",
     "start_time": "2019-11-12T10:43:44.248574Z"
    }
   },
   "outputs": [
    {
     "name": "stdout",
     "output_type": "stream",
     "text": [
      "[2, 3, 4] [1, 2, 3, 4]\n",
      "4448416840 4447207176\n"
     ]
    }
   ],
   "source": [
    "def tail(list):\n",
    "    return list[1:]     # we are creating a new list\n",
    "\n",
    "numbers=[1,2,3,4]\n",
    "rest = tail(numbers)\n",
    "print(rest, numbers)\n",
    "print(id(rest), id(numbers))"
   ]
  },
  {
   "cell_type": "code",
   "execution_count": 65,
   "metadata": {
    "ExecuteTime": {
     "end_time": "2019-11-12T10:43:44.528802Z",
     "start_time": "2019-11-12T10:43:44.520713Z"
    }
   },
   "outputs": [
    {
     "ename": "SyntaxError",
     "evalue": "invalid syntax (<ipython-input-65-cfb12d0780d8>, line 2)",
     "output_type": "error",
     "traceback": [
      "\u001b[0;36m  File \u001b[0;32m\"<ipython-input-65-cfb12d0780d8>\"\u001b[0;36m, line \u001b[0;32m2\u001b[0m\n\u001b[0;31m    numbers.\u001b[0m\n\u001b[0m            ^\u001b[0m\n\u001b[0;31mSyntaxError\u001b[0m\u001b[0;31m:\u001b[0m invalid syntax\n"
     ]
    }
   ],
   "source": [
    "# Press tab\n",
    "numbers."
   ]
  },
  {
   "cell_type": "markdown",
   "metadata": {},
   "source": [
    "Sometimes it is important to perform a *sanity check* about what is doing a pre-defined function:"
   ]
  },
  {
   "cell_type": "code",
   "execution_count": 66,
   "metadata": {
    "ExecuteTime": {
     "end_time": "2019-11-12T10:43:45.490522Z",
     "start_time": "2019-11-12T10:43:45.485972Z"
    }
   },
   "outputs": [
    {
     "name": "stdout",
     "output_type": "stream",
     "text": [
      "[1, 2, 3, 4] None [1, 2, 3, 4]\n"
     ]
    }
   ],
   "source": [
    "numbers=[1,2,3,4]\n",
    "def test(l):\n",
    "    return l.reverse()\n",
    "\n",
    "test(numbers)\n",
    "\n",
    "print(numbers, numbers.reverse(), numbers)"
   ]
  },
  {
   "cell_type": "markdown",
   "metadata": {},
   "source": [
    "### Dictionaries\n",
    "\n",
    "A dictionary is a collection that allows the access of an *element* by using a *key*:"
   ]
  },
  {
   "cell_type": "code",
   "execution_count": 67,
   "metadata": {
    "ExecuteTime": {
     "end_time": "2019-11-12T10:43:46.211039Z",
     "start_time": "2019-11-12T10:43:46.206368Z"
    }
   },
   "outputs": [
    {
     "data": {
      "text/plain": [
       "'D'"
      ]
     },
     "execution_count": 67,
     "metadata": {},
     "output_type": "execute_result"
    }
   ],
   "source": [
    "dict = {\"d\": \"D\", \"b\":\"B\", \"c\":\"C\"}\n",
    "dict[\"d\"]"
   ]
  },
  {
   "cell_type": "markdown",
   "metadata": {},
   "source": [
    "Dictionaries are *mutable, dynamic* and *unordered*:"
   ]
  },
  {
   "cell_type": "code",
   "execution_count": 68,
   "metadata": {
    "ExecuteTime": {
     "end_time": "2019-11-12T10:43:46.816797Z",
     "start_time": "2019-11-12T10:43:46.813085Z"
    }
   },
   "outputs": [
    {
     "data": {
      "text/plain": [
       "{'a': 'A', 'b': 'B', 'c': 'C', 'd': 'D'}"
      ]
     },
     "execution_count": 68,
     "metadata": {},
     "output_type": "execute_result"
    }
   ],
   "source": [
    "dict[\"a\"]=\"A\"\n",
    "dict"
   ]
  },
  {
   "cell_type": "code",
   "execution_count": 69,
   "metadata": {
    "ExecuteTime": {
     "end_time": "2019-11-12T10:43:47.133624Z",
     "start_time": "2019-11-12T10:43:47.130158Z"
    }
   },
   "outputs": [
    {
     "data": {
      "text/plain": [
       "True"
      ]
     },
     "execution_count": 69,
     "metadata": {},
     "output_type": "execute_result"
    }
   ],
   "source": [
    "\"a\" in dict"
   ]
  },
  {
   "cell_type": "code",
   "execution_count": 70,
   "metadata": {
    "ExecuteTime": {
     "end_time": "2019-11-12T10:43:47.650109Z",
     "start_time": "2019-11-12T10:43:47.647079Z"
    }
   },
   "outputs": [
    {
     "name": "stdout",
     "output_type": "stream",
     "text": [
      "{'d': 'D', 'b': 'B', 'c': 'C'}\n"
     ]
    }
   ],
   "source": [
    "del dict[\"a\"]\n",
    "print(dict)"
   ]
  },
  {
   "cell_type": "code",
   "execution_count": 71,
   "metadata": {
    "ExecuteTime": {
     "end_time": "2019-11-12T10:43:48.190103Z",
     "start_time": "2019-11-12T10:43:48.185872Z"
    }
   },
   "outputs": [
    {
     "data": {
      "text/plain": [
       "dict_items([('d', 'D'), ('b', 'B'), ('c', 'C')])"
      ]
     },
     "execution_count": 71,
     "metadata": {},
     "output_type": "execute_result"
    }
   ],
   "source": [
    "dict = {\"d\": \"D\", \"b\":\"B\", \"c\":\"C\"}\n",
    "dict.items()"
   ]
  },
  {
   "cell_type": "markdown",
   "metadata": {},
   "source": [
    "### Tuples\n",
    "\n",
    "Tuples are **non-mutable** lists:"
   ]
  },
  {
   "cell_type": "code",
   "execution_count": 72,
   "metadata": {
    "ExecuteTime": {
     "end_time": "2019-11-12T10:43:48.997566Z",
     "start_time": "2019-11-12T10:43:48.994278Z"
    }
   },
   "outputs": [
    {
     "name": "stdout",
     "output_type": "stream",
     "text": [
      "<class 'tuple'> ('b', 'c')\n"
     ]
    }
   ],
   "source": [
    "tup = ('a', 'b', 'c')\n",
    "print(type(tup), tup[1:3])"
   ]
  },
  {
   "cell_type": "code",
   "execution_count": 73,
   "metadata": {
    "ExecuteTime": {
     "end_time": "2019-11-12T10:43:49.499469Z",
     "start_time": "2019-11-12T10:43:49.423004Z"
    }
   },
   "outputs": [
    {
     "ename": "TypeError",
     "evalue": "'tuple' object does not support item assignment",
     "output_type": "error",
     "traceback": [
      "\u001b[0;31m---------------------------------------------------------------------------\u001b[0m",
      "\u001b[0;31mTypeError\u001b[0m                                 Traceback (most recent call last)",
      "\u001b[0;32m<ipython-input-73-e43c22bd0fba>\u001b[0m in \u001b[0;36m<module>\u001b[0;34m()\u001b[0m\n\u001b[0;32m----> 1\u001b[0;31m \u001b[0mtup\u001b[0m\u001b[0;34m[\u001b[0m\u001b[0;36m0\u001b[0m\u001b[0;34m]\u001b[0m\u001b[0;34m=\u001b[0m\u001b[0;34m'd'\u001b[0m\u001b[0;34m\u001b[0m\u001b[0;34m\u001b[0m\u001b[0m\n\u001b[0m",
      "\u001b[0;31mTypeError\u001b[0m: 'tuple' object does not support item assignment"
     ]
    }
   ],
   "source": [
    "tup[0]='d'"
   ]
  },
  {
   "cell_type": "markdown",
   "metadata": {},
   "source": [
    "### Example: How to compute the statistics of words in a document."
   ]
  },
  {
   "cell_type": "code",
   "execution_count": 76,
   "metadata": {
    "ExecuteTime": {
     "end_time": "2019-11-12T10:45:57.660125Z",
     "start_time": "2019-11-12T10:45:57.653748Z"
    }
   },
   "outputs": [
    {
     "name": "stdout",
     "output_type": "stream",
     "text": [
      "\n",
      "                 BORGES....... SU ULTIMO POEMA\n",
      "\n",
      "\tSi pudiera vivir nuevamente mi vida...\n",
      "\tEn la proxima cometeria mas errores.\n",
      "\tNo intentaria ser tan perfecto, \n",
      "\tme relajaria mas.\n",
      "\tSeria mas tonto de lo que he sido, \n",
      "\tde hecho tomaria muy pocas cosas con seriedad.\n",
      "\tSeria menos higienico.\n",
      "\tCorreria mas riesgos, \n",
      "\tharia mas viajes, \n",
      "\tcontemplaria mas atardeceres,\n",
      "\tsubiria mas montanas, \n",
      "\tnadaria mas rios.\n",
      "\tIria a mas lugares adonde nunca he ido, \n",
      "\tcomeria mas helados y menos  habas, \n",
      "\ttendria mas problemas reales \n",
      "\ty menos IMAGINARIOS.\n",
      "\tYo fui de esas personas que vivio \n",
      "\tsensata y prolificamente cada minuto de su vida; \n",
      "\tclaro que tuve alegrias.\n",
      "\tPero si pudiera volver atras trataria de tener\n",
      "\tsolamente buenos momentos.\n",
      "\tPor si no lo saben, \n",
      "\tde eso esta hecha la vida,\n",
      "\tsolo de momentos; \n",
      "\tno! no te pierdas el ahora.\n",
      "\tYo era uno de esos que nunca iban a ninguna parte\n",
      "\tsin un termometro, una bolsa de agua caliente, un\n",
      "\tparaguas y un paracaidas.\n",
      "\tSi pudiera volver a vivir \n",
      "\tcomenzaria a andar descalzo a principios de la\n",
      "\tprimavera y seguiria asi hasta conclur el oton~o.\n",
      "\tdaria mas vueltas en calesita; \n",
      "\tcontemplaria mas amaneceres y \n",
      "\tjugaria mas con los ninyos, \n",
      "\tsi tuviera otra vida por delante...\n",
      "\n",
      "\tPero ya ven, tengo 85 an~os y se que me estoy\n",
      "\tmuriendo...\n",
      "\n",
      "\n",
      "\tPero ya ven, tengo 85 an~os y se que me estoy\n",
      "\tmuriendo..."
     ]
    }
   ],
   "source": [
    "# We can read a file in a list of line strings or as a string\n",
    "text = open(\"text.txt\",'r').readlines()\n",
    "for l in text:\n",
    "    print(l,end=\"\")"
   ]
  },
  {
   "cell_type": "code",
   "execution_count": 77,
   "metadata": {
    "ExecuteTime": {
     "end_time": "2019-11-12T10:46:01.534770Z",
     "start_time": "2019-11-12T10:46:01.411241Z"
    }
   },
   "outputs": [
    {
     "name": "stdout",
     "output_type": "stream",
     "text": [
      "1. Crash course on Python-NS.ipynb   What is Data Science CAFESchool.pdf\r\n",
      "1.1 Python_Toolbox.ipynb             \u001b[34mbackup\u001b[m\u001b[m/\r\n",
      "5 NeuralNetworksI.ipynb              educ_figdp_1_Data.csv\r\n",
      "6. NeuralNetworksII.ipynb            \u001b[31mtext.txt\u001b[m\u001b[m*\r\n",
      "SeaIce.txt\r\n"
     ]
    }
   ],
   "source": [
    "# ipython magic commands\n",
    "\n",
    "%ls"
   ]
  },
  {
   "cell_type": "markdown",
   "metadata": {},
   "source": [
    "### Lists (and dictionary) comprehensions\n",
    "\n",
    "Lists comprehensions are a way to fit a ``for`` loop, an ``if`` statement, and an assignment all in one line.\n",
    "\n",
    "A list comprehension consists of the following parts:\n",
    "\n",
    "+ An input sequence.\n",
    "+ A variable representing members of the input sequence.\n",
    "+ An optional expression.\n",
    "+ An output expression producing elements of the output list from members of the input sequence that satisfy the predicate."
   ]
  },
  {
   "cell_type": "code",
   "execution_count": 78,
   "metadata": {
    "ExecuteTime": {
     "end_time": "2019-11-12T10:46:04.689837Z",
     "start_time": "2019-11-12T10:46:04.685488Z"
    }
   },
   "outputs": [
    {
     "name": "stdout",
     "output_type": "stream",
     "text": [
      "<class 'list'> [1, 16, 100, 4, 9]\n"
     ]
    }
   ],
   "source": [
    "num = [1, 4, -5, 10, -7, 2, 3, -1]\n",
    "squared = [ x**2 for x in num if x > 0]\n",
    "print(type(squared), squared)"
   ]
  },
  {
   "cell_type": "markdown",
   "metadata": {},
   "source": [
    "There is a downside to list comprehensions: the entire list has to be stored in memory at once. This isn’t a problem for small lists like the ones in the above examples, or even of lists several orders of magnitude larger. But we can use **<font color=\"red\">generators</font>** to solve this problem.\n",
    "\n",
    "Generator expressions do not load the whole list into memory at once, but instead create a *generator object* so only one list element has to be loaded at any time.\n",
    "\n",
    "Generator expressions have the same syntax as list comprehensions, but with parentheses around the outside instead of brackets:"
   ]
  },
  {
   "cell_type": "code",
   "execution_count": 79,
   "metadata": {
    "ExecuteTime": {
     "end_time": "2019-11-12T10:46:05.250969Z",
     "start_time": "2019-11-12T10:46:05.246984Z"
    }
   },
   "outputs": [
    {
     "name": "stdout",
     "output_type": "stream",
     "text": [
      "<class 'generator'> <generator object <genexpr> at 0x1090081a8>\n"
     ]
    }
   ],
   "source": [
    "num = [1, 4, -5, 10, -7, 2, 3, -1]\n",
    "squared = ( x**2 for x in num if x > 0 )\n",
    "print(type(squared), squared)"
   ]
  },
  {
   "cell_type": "markdown",
   "metadata": {},
   "source": [
    "The elements of the generator must be accessed by an iterator because they are generated when needed:"
   ]
  },
  {
   "cell_type": "code",
   "execution_count": 80,
   "metadata": {
    "ExecuteTime": {
     "end_time": "2019-11-12T10:46:06.375734Z",
     "start_time": "2019-11-12T10:46:06.372333Z"
    }
   },
   "outputs": [
    {
     "name": "stdout",
     "output_type": "stream",
     "text": [
      "[1, 16, 100, 4, 9]\n"
     ]
    }
   ],
   "source": [
    "lis = []\n",
    "for item in squared:\n",
    "    lis = lis + [item]\n",
    "print(lis)"
   ]
  },
  {
   "cell_type": "markdown",
   "metadata": {},
   "source": [
    "We can define our own generators with the ``yield`` statesment. For example, let's build a generator for the binary representation of a number between 0 and 1 with arbitrary precision."
   ]
  },
  {
   "cell_type": "code",
   "execution_count": 81,
   "metadata": {
    "ExecuteTime": {
     "end_time": "2019-11-12T10:46:07.187424Z",
     "start_time": "2019-11-12T10:46:07.181687Z"
    }
   },
   "outputs": [
    {
     "name": "stdout",
     "output_type": "stream",
     "text": [
      ".0101010101\n"
     ]
    }
   ],
   "source": [
    "# binary representation of a number between 0 and 1 (b bits precision).\n",
    "\n",
    "def res(n,b):\n",
    "    bin_a = '.'\n",
    "    for i in range(b):\n",
    "        n *= 2\n",
    "        bin_a +=  str(int(n))\n",
    "        n = n % 1\n",
    "    return bin_a\n",
    "\n",
    "print(res(1/3.0,10))"
   ]
  },
  {
   "cell_type": "code",
   "execution_count": 82,
   "metadata": {
    "ExecuteTime": {
     "end_time": "2019-11-12T10:46:07.708178Z",
     "start_time": "2019-11-12T10:46:07.700659Z"
    }
   },
   "outputs": [
    {
     "name": "stdout",
     "output_type": "stream",
     "text": [
      ".01010101010101010101010101010101010101010101010101\n"
     ]
    }
   ],
   "source": [
    "# binary representation of a number between 0 and 1 (precision as needed).\n",
    "\n",
    "def binRep(n):\n",
    "    while True:\n",
    "        n *= 2\n",
    "        yield int(n)\n",
    "        n = n % 1\n",
    "\n",
    "a = binRep(1/3.) \n",
    "a_bin = '.'\n",
    "for i in range(50):\n",
    "    a_bin +=  str(next(a))\n",
    "    \n",
    "print(a_bin)"
   ]
  },
  {
   "cell_type": "markdown",
   "metadata": {},
   "source": [
    "** Exercise **\n",
    "\n",
    "+ Write a function with two parameters <code>a</code> and <code>b</code>, to compute the final amount we get if we deposite 1000€ during <code>a</code> years in a bank account with an interest rate of <code>b</code> per cent.\n",
    "+ What is the result for ``a``=10, ``b``=10"
   ]
  },
  {
   "cell_type": "code",
   "execution_count": 83,
   "metadata": {
    "ExecuteTime": {
     "end_time": "2019-11-12T10:46:08.646638Z",
     "start_time": "2019-11-12T10:46:08.644087Z"
    }
   },
   "outputs": [],
   "source": [
    "# Your solution here"
   ]
  },
  {
   "cell_type": "markdown",
   "metadata": {},
   "source": [
    "**Exercise**\n",
    "\n",
    "+ Write a function with one parameter <code>a</code>, to compute the minimum period we need to double the amount in an account with an interest rate of <code>a</code> per cent.\n",
    "+ What is the result for ``a``=3?"
   ]
  },
  {
   "cell_type": "code",
   "execution_count": 84,
   "metadata": {
    "ExecuteTime": {
     "end_time": "2019-11-12T10:46:10.132141Z",
     "start_time": "2019-11-12T10:46:10.129701Z"
    }
   },
   "outputs": [],
   "source": [
    "# Your solution here"
   ]
  },
  {
   "cell_type": "markdown",
   "metadata": {},
   "source": [
    "**Exercise**\n",
    "\n",
    "> (...) In mathematics, the sieve of Eratosthenes, one of a number of prime number sieves, is a simple, ancient algorithm for finding all prime numbers up to any given limit. A prime number is a natural number which has exactly two distinct natural number divisors: 1 and itself. To find all the prime numbers less than or equal to a given integer $n$ by Eratosthenes' method.\n",
    "> (Source: *Wikipedia*)\n",
    "\n",
    "+ Write a program to implement the Eratostenes algorithm. First create a list of consecutive integers from 2 through $n$: (2, 3, 4, ..., n). Then,    \n",
    "    - Initially, let $p$ equal 2, the first prime number.\n",
    "    - Starting from $p$, enumerate its multiples by counting to $n$ in increments of $p$, and mark them in the list (these will be 2p, 3p, 4p, etc.; the $p$ itself should not be marked).\n",
    "    - Find the first number greater than $p$ in the list that is not marked. If there was no such number, stop. Otherwise, let $p$ now equal this new number (which is the next prime), and repeat from step 2.\n",
    "    - When the algorithm terminates, all the numbers in the list that are not marked are prime. (...)"
   ]
  },
  {
   "cell_type": "code",
   "execution_count": null,
   "metadata": {
    "collapsed": true
   },
   "outputs": [],
   "source": [
    "# Your solution here"
   ]
  },
  {
   "cell_type": "markdown",
   "metadata": {},
   "source": [
    "**Exercise:** \n",
    "\n",
    "+ Compute the set of bigrams of a string. (``'hola'->'ho'+'ol'+'la'``) "
   ]
  },
  {
   "cell_type": "code",
   "execution_count": null,
   "metadata": {
    "collapsed": true
   },
   "outputs": [],
   "source": [
    "# Your solution here"
   ]
  },
  {
   "cell_type": "markdown",
   "metadata": {},
   "source": [
    "### Objects\n",
    "\n",
    "You can define your own classes and objects."
   ]
  },
  {
   "cell_type": "code",
   "execution_count": 85,
   "metadata": {
    "ExecuteTime": {
     "end_time": "2019-11-12T10:46:19.994450Z",
     "start_time": "2019-11-12T10:46:19.974354Z"
    }
   },
   "outputs": [],
   "source": [
    "#creating a class\n",
    "\n",
    "class Rectangle:\n",
    "    def __init__(self,x,y):\n",
    "        self.x = x\n",
    "        self.y = y\n",
    "    description = \"This shape has not been described yet\"\n",
    "    author = \"Nobody has claimed to make this shape yet\"\n",
    "    def area(self):\n",
    "        return self.x * self.y\n",
    "    def perimeter(self):\n",
    "        return 2 * self.x + 2 * self.y\n",
    "    def describe(self,text):\n",
    "        self.description = text\n",
    "    def authorName(self,text):\n",
    "        self.author = text\n",
    "    def scaleSize(self,scale):\n",
    "        self.x = self.x * scale\n",
    "        self.y = self.y * scale\n",
    "\n",
    "#creating objects\n",
    "a = Rectangle(100, 45)\n",
    "b = Rectangle(10,230)\n",
    "\n",
    "#describing the rectangles\n",
    "a.describe(\"A fat rectangle\")\n",
    "b.describe(\"A thin rectangle\")"
   ]
  },
  {
   "cell_type": "code",
   "execution_count": 86,
   "metadata": {
    "ExecuteTime": {
     "end_time": "2019-11-12T10:46:20.811878Z",
     "start_time": "2019-11-12T10:46:20.806819Z"
    }
   },
   "outputs": [
    {
     "name": "stdout",
     "output_type": "stream",
     "text": [
      "4500\n",
      "290\n",
      "A fat rectangle\n",
      "Nobody has claimed to make this shape yet\n"
     ]
    }
   ],
   "source": [
    "#finding the area of your rectangle:\n",
    "print(a.area())\n",
    " \n",
    "#finding the perimeter of your rectangle:\n",
    "print(a.perimeter())\n",
    "\n",
    "#getting the description\n",
    "print(a.description)\n",
    "print(a.author)"
   ]
  },
  {
   "cell_type": "code",
   "execution_count": 87,
   "metadata": {
    "ExecuteTime": {
     "end_time": "2019-11-12T10:46:21.521980Z",
     "start_time": "2019-11-12T10:46:21.515742Z"
    }
   },
   "outputs": [
    {
     "name": "stdout",
     "output_type": "stream",
     "text": [
      "2300\n",
      "A thin rectangle\n",
      "575.0\n",
      "A small thin rectangle\n"
     ]
    }
   ],
   "source": [
    "#finding the area of your rectangle:\n",
    "print(b.area())\n",
    "print(b.description)\n",
    "\n",
    "#making the rectangle 50% smaller\n",
    "b.scaleSize(0.5)\n",
    "b.describe(\"A small thin rectangle\")\n",
    " \n",
    "#re-printing the new area of the rectangle\n",
    "print(b.area())\n",
    "print(b.description)"
   ]
  },
  {
   "cell_type": "markdown",
   "metadata": {},
   "source": [
    "## Reading Data\n",
    "\n",
    "The most convenient method that you can use to work with data is to load it directly into memory.\n",
    "\n",
    "When you load a file (of any type), the entire dataset is available at all times and the loading process is quite direct:"
   ]
  },
  {
   "cell_type": "code",
   "execution_count": 88,
   "metadata": {
    "ExecuteTime": {
     "end_time": "2019-11-12T10:46:26.159579Z",
     "start_time": "2019-11-12T10:46:26.150325Z"
    }
   },
   "outputs": [
    {
     "name": "stdout",
     "output_type": "stream",
     "text": [
      "File content:\n",
      "year mo    data_type region extent   area\n",
      "1979  1      Goddard      N  15.54  12.33\n",
      "1980  1      Goddard      N  14.96  11.85\n",
      "1981  1      Goddard      N  15.03  11.82\n",
      "1982  1      Goddard      N  15.26  12.11\n",
      "1983  1      Goddard      N  15.10  11.92\n",
      "1984  1      Goddard      N  14.61  11.60\n",
      "1985  1      Goddard      N  14.86  11.60\n",
      "1986  1      Goddard      N  15.02  11.79\n",
      "1987  1      Goddard      N  15.20  11.81\n",
      "1988  1        -9999      N  -9999  -9999\n",
      "1989  1      Goddard      N  15.12  13.11\n",
      "1990  1      Goddard      N  14.95  12.72\n",
      "1991  1      Goddard      N  14.46  12.49\n",
      "1992  1      Goddard      N  14.72  12.54\n",
      "1993  1      Goddard      N  15.08  12.85\n",
      "1994  1      Goddard      N  14.82  12.80\n",
      "1995  1      Goddard      N  14.62  12.72\n",
      "1996  1      Goddard      N  14.21  12.07\n",
      "1997  1      Goddard      N  14.47  12.30\n",
      "1998  1      Goddard      N  14.81  12.73\n",
      "1999  1      Goddard      N  14.47  12.54\n",
      "2000  1      Goddard      N  14.41  12.22\n",
      "2001  1      Goddard      N  14.31  12.27\n",
      "2002  1      Goddard      N  14.45  12.19\n",
      "2003  1      Goddard      N  14.46  12.21\n",
      "2004  1      Goddard      N  14.03  12.19\n",
      "2005  1      Goddard      N  13.66  11.84\n",
      "2006  1      Goddard      N  13.60  11.57\n",
      "2007  1      Goddard      N  13.77  11.79\n",
      "2008  1      Goddard      N  14.05  11.95\n",
      "2009  1      Goddard      N  14.08  11.97\n",
      "2010  1      Goddard      N  13.80  11.68\n",
      "2011  1      Goddard      N  13.57  11.47\n",
      "2012  1      Goddard      N  13.77  11.87\n",
      "2013  1      NRTSI-G      N  13.78  11.57\n",
      "2014  1      NRTSI-G      N  13.73  11.66\n",
      "1979  2      Goddard      N  16.31  13.11\n",
      "1980  2      Goddard      N  15.98  12.82\n",
      "1981  2      Goddard      N  15.65  12.45\n",
      "1982  2      Goddard      N  16.06  12.79\n",
      "1983  2      Goddard      N  16.02  12.86\n",
      "1984  2      Goddard      N  15.32  12.17\n",
      "1985  2      Goddard      N  15.67  12.39\n",
      "1986  2      Goddard      N  15.89  12.53\n",
      "1987  2      Goddard      N  16.11  12.93\n",
      "1988  2      Goddard      N  15.61  13.49\n",
      "1989  2      Goddard      N  15.56  13.28\n",
      "1990  2      Goddard      N  15.56  13.33\n",
      "1991  2      Goddard      N  15.26  13.15\n",
      "1992  2      Goddard      N  15.50  13.51\n",
      "1993  2      Goddard      N  15.73  13.54\n",
      "1994  2      Goddard      N  15.61  13.46\n",
      "1995  2      Goddard      N  15.24  13.30\n",
      "1996  2      Goddard      N  15.17  12.90\n",
      "1997  2      Goddard      N  15.52  13.36\n",
      "1998  2      Goddard      N  15.77  13.70\n",
      "1999  2      Goddard      N  15.37  13.38\n",
      "2000  2      Goddard      N  15.18  13.02\n",
      "2001  2      Goddard      N  15.27  13.14\n",
      "2002  2      Goddard      N  15.36  13.36\n",
      "2003  2      Goddard      N  15.25  13.16\n",
      "2004  2      Goddard      N  14.93  12.87\n",
      "2005  2      Goddard      N  14.36  12.27\n",
      "2006  2      Goddard      N  14.42  12.28\n",
      "2007  2      Goddard      N  14.53  12.52\n",
      "2008  2      Goddard      N  15.01  12.87\n",
      "2009  2      Goddard      N  14.85  12.87\n",
      "2010  2      Goddard      N  14.59  12.60\n",
      "2011  2      Goddard      N  14.38  12.41\n",
      "2012  2      Goddard      N  14.59  12.37\n",
      "2013  2      Goddard      N  14.69  12.84\n",
      "2014  2      NRTSI-G      N  14.44  12.12\n",
      "1979  3      Goddard      N  16.45  13.13\n",
      "1980  3      Goddard      N  16.13  12.92\n",
      "1981  3      Goddard      N  15.61  12.62\n",
      "1982  3      Goddard      N  16.15  12.99\n",
      "1983  3      Goddard      N  16.10  12.84\n",
      "1984  3      Goddard      N  15.62  12.48\n",
      "1985  3      Goddard      N  16.06  12.66\n",
      "1986  3      Goddard      N  16.08  12.65\n",
      "1987  3      Goddard      N  15.95  12.75\n",
      "1988  3      Goddard      N  16.13  13.84\n",
      "1989  3      Goddard      N  15.52  13.14\n",
      "1990  3      Goddard      N  15.88  13.44\n",
      "1991  3      Goddard      N  15.50  13.35\n",
      "1992  3      Goddard      N  15.47  13.41\n",
      "1993  3      Goddard      N  15.88  13.71\n",
      "1994  3      Goddard      N  15.58  13.47\n",
      "1995  3      Goddard      N  15.32  13.28\n",
      "1996  3      Goddard      N  15.13  12.83\n",
      "1997  3      Goddard      N  15.58  13.24\n",
      "1998  3      Goddard      N  15.66  13.50\n",
      "1999  3      Goddard      N  15.40  13.47\n",
      "2000  3      Goddard      N  15.27  13.10\n",
      "2001  3      Goddard      N  15.61  13.57\n",
      "2002  3      Goddard      N  15.44  13.36\n",
      "2003  3      Goddard      N  15.49  13.36\n",
      "2004  3      Goddard      N  15.05  12.93\n",
      "2005  3      Goddard      N  14.74  12.67\n",
      "2006  3      Goddard      N  14.43  12.44\n",
      "2007  3      Goddard      N  14.65  12.49\n",
      "2008  3      Goddard      N  15.22  13.20\n",
      "2009  3      Goddard      N  15.14  13.08\n",
      "2010  3      Goddard      N  15.11  13.19\n",
      "2011  3      Goddard      N  14.58  12.48\n",
      "2012  3      Goddard      N  15.24  13.08\n",
      "2013  3      NRTSI-G      N  15.04  13.02\n",
      "1979  4      Goddard      N  15.46  12.43\n",
      "1980  4      Goddard      N  15.49  12.45\n",
      "1981  4      Goddard      N  15.12  12.16\n",
      "1982  4      Goddard      N  15.57  12.55\n",
      "1983  4      Goddard      N  15.30  12.12\n",
      "1984  4      Goddard      N  15.15  12.10\n",
      "1985  4      Goddard      N  15.34  12.46\n",
      "1986  4      Goddard      N  15.15  11.95\n",
      "1987  4      Goddard      N  15.33  12.28\n",
      "1988  4      Goddard      N  15.21  13.11\n",
      "1989  4      Goddard      N  14.44  12.26\n",
      "1990  4      Goddard      N  14.68  12.16\n",
      "1991  4      Goddard      N  14.93  12.79\n",
      "1992  4      Goddard      N  14.70  12.76\n",
      "1993  4      Goddard      N  15.18  12.95\n",
      "1994  4      Goddard      N  14.95  12.84\n",
      "1995  4      Goddard      N  14.59  12.32\n",
      "1996  4      Goddard      N  14.22  12.23\n",
      "1997  4      Goddard      N  14.59  12.48\n",
      "1998  4      Goddard      N  14.89  12.77\n",
      "1999  4      Goddard      N  15.13  13.08\n",
      "2000  4      Goddard      N  14.63  12.51\n",
      "2001  4      Goddard      N  14.86  12.99\n",
      "2002  4      Goddard      N  14.37  12.35\n",
      "2003  4      Goddard      N  14.57  12.38\n",
      "2004  4      Goddard      N  14.11  12.08\n",
      "2005  4      Goddard      N  14.07  12.16\n",
      "2006  4      Goddard      N  13.97  11.97\n",
      "2007  4      Goddard      N  13.87  11.75\n",
      "2008  4      Goddard      N  14.42  12.43\n",
      "2009  4      Goddard      N  14.57  12.58\n",
      "2010  4      Goddard      N  14.70  12.50\n",
      "2011  4      Goddard      N  14.16  12.11\n",
      "2012  4      Goddard      N  14.72  12.53\n",
      "2013  4      NRTSI-G      N  14.37  12.33\n",
      "1979  5      Goddard      N  14.06  11.04\n",
      "1980  5      Goddard      N  14.04  10.88\n",
      "1981  5      Goddard      N  13.90  10.93\n",
      "1982  5      Goddard      N  14.17  11.10\n",
      "1983  5      Goddard      N  13.54  10.80\n",
      "1984  5      Goddard      N  13.68  10.81\n",
      "1985  5      Goddard      N  14.23  11.19\n",
      "1986  5      Goddard      N  13.52  10.63\n",
      "1987  5      Goddard      N  13.81  10.91\n",
      "1988  5      Goddard      N  13.69  11.35\n",
      "1989  5      Goddard      N  12.98  11.30\n",
      "1990  5      Goddard      N  13.30  10.84\n",
      "1991  5      Goddard      N  13.51  11.44\n",
      "1992  5      Goddard      N  13.25  11.37\n",
      "1993  5      Goddard      N  13.54  11.35\n",
      "1994  5      Goddard      N  13.73  11.60\n",
      "1995  5      Goddard      N  13.04  10.76\n",
      "1996  5      Goddard      N  13.06  11.22\n",
      "1997  5      Goddard      N  13.32  11.17\n",
      "1998  5      Goddard      N  13.80  11.35\n",
      "1999  5      Goddard      N  13.86  11.61\n",
      "2000  5      Goddard      N  13.18  11.18\n",
      "2001  5      Goddard      N  13.72  11.32\n",
      "2002  5      Goddard      N  13.12  11.11\n",
      "2003  5      Goddard      N  13.00  10.82\n",
      "2004  5      Goddard      N  12.58  10.86\n",
      "2005  5      Goddard      N  12.99  10.83\n",
      "2006  5      Goddard      N  12.62  10.39\n",
      "2007  5      Goddard      N  12.89  10.71\n",
      "2008  5      Goddard      N  13.19  10.92\n",
      "2009  5      Goddard      N  13.40  11.15\n",
      "2010  5      Goddard      N  13.11  10.54\n",
      "2011  5      Goddard      N  12.81  10.41\n",
      "2012  5      Goddard      N  13.12  10.72\n",
      "2013  5      NRTSI-G      N  13.10  10.87\n",
      "1979  6      Goddard      N  12.59   9.28\n",
      "1980  6      Goddard      N  12.31   8.93\n",
      "1981  6      Goddard      N  12.57   8.96\n",
      "1982  6      Goddard      N  12.69   9.40\n",
      "1983  6      Goddard      N  12.36   9.20\n",
      "1984  6      Goddard      N  12.20   9.02\n",
      "1985  6      Goddard      N  12.40   8.88\n",
      "1986  6      Goddard      N  12.10   8.93\n",
      "1987  6      Goddard      N  12.57   9.32\n",
      "1988  6      Goddard      N  12.02   9.62\n",
      "1989  6      Goddard      N  12.31   9.90\n",
      "1990  6      Goddard      N  11.68   9.12\n",
      "1991  6      Goddard      N  12.23   9.60\n",
      "1992  6      Goddard      N  12.13   9.89\n",
      "1993  6      Goddard      N  11.99   9.20\n",
      "1994  6      Goddard      N  12.10   9.62\n",
      "1995  6      Goddard      N  11.55   8.86\n",
      "1996  6      Goddard      N  12.10   9.78\n",
      "1997  6      Goddard      N  11.91   9.14\n",
      "1998  6      Goddard      N  11.85   9.11\n",
      "1999  6      Goddard      N  12.10   9.18\n",
      "2000  6      Goddard      N  11.71   8.99\n",
      "2001  6      Goddard      N  11.69   9.01\n",
      "2002  6      Goddard      N  11.69   9.13\n",
      "2003  6      Goddard      N  11.77   9.05\n",
      "2004  6      Goddard      N  11.51   9.18\n",
      "2005  6      Goddard      N  11.29   8.74\n",
      "2006  6      Goddard      N  11.06   8.34\n",
      "2007  6      Goddard      N  11.49   8.15\n",
      "2008  6      Goddard      N  11.36   8.52\n",
      "2009  6      Goddard      N  11.46   8.92\n",
      "2010  6      Goddard      N  10.82   8.02\n",
      "2011  6      Goddard      N  10.99   8.20\n",
      "2012  6      Goddard      N  10.92   7.77\n",
      "2013  6      NRTSI-G      N  11.58   8.57\n",
      "1979  7      Goddard      N  10.47   6.59\n",
      "1980  7      Goddard      N  10.39   6.45\n",
      "1981  7      Goddard      N  10.62   6.23\n",
      "1982  7      Goddard      N  10.75   6.79\n",
      "1983  7      Goddard      N  10.91   6.79\n",
      "1984  7      Goddard      N  10.15   6.19\n",
      "1985  7      Goddard      N  10.09   5.89\n",
      "1986  7      Goddard      N  10.47   6.53\n",
      "1987  7      Goddard      N   9.98   6.84\n",
      "1988  7      Goddard      N  10.04   6.93\n",
      "1989  7      Goddard      N  10.38   7.24\n",
      "1990  7      Goddard      N   9.62   6.44\n",
      "1991  7      Goddard      N   9.68   6.66\n",
      "1992  7      Goddard      N  10.61   7.14\n",
      "1993  7      Goddard      N   9.66   6.17\n",
      "1994  7      Goddard      N  10.22   6.85\n",
      "1995  7      Goddard      N   9.15   6.05\n",
      "1996  7      Goddard      N  10.36   7.36\n",
      "1997  7      Goddard      N   9.59   6.41\n",
      "1998  7      Goddard      N   9.62   6.38\n",
      "1999  7      Goddard      N   9.59   6.49\n",
      "2000  7      Goddard      N   9.75   6.31\n",
      "2001  7      Goddard      N   9.22   6.22\n",
      "2002  7      Goddard      N   9.49   6.34\n",
      "2003  7      Goddard      N   9.46   6.06\n",
      "2004  7      Goddard      N   9.60   6.43\n",
      "2005  7      Goddard      N   8.93   5.81\n",
      "2006  7      Goddard      N   8.67   5.71\n",
      "2007  7      Goddard      N   8.13   5.03\n",
      "2008  7      Goddard      N   8.99   5.74\n",
      "2009  7      Goddard      N   8.80   5.77\n",
      "2010  7      Goddard      N   8.36   5.27\n",
      "2011  7      Goddard      N   7.91   5.04\n",
      "2012  7      Goddard      N   7.93   4.76\n",
      "2013  7      NRTSI-G      N   8.45   5.41\n",
      "1979  8      Goddard      N   8.15   4.96\n",
      "1980  8      Goddard      N   8.04   4.84\n",
      "1981  8      Goddard      N   7.86   4.38\n",
      "1982  8      Goddard      N   8.26   4.92\n",
      "1983  8      Goddard      N   8.36   4.88\n",
      "1984  8      Goddard      N   7.87   4.59\n",
      "1985  8      Goddard      N   7.46   4.51\n",
      "1986  8      Goddard      N   8.01   4.92\n",
      "1987  8      Goddard      N   7.69   5.35\n",
      "1988  8      Goddard      N   7.90   5.34\n",
      "1989  8      Goddard      N   7.92   5.48\n",
      "1990  8      Goddard      N   6.82   4.92\n",
      "1991  8      Goddard      N   7.40   5.14\n",
      "1992  8      Goddard      N   7.86   5.35\n",
      "1993  8      Goddard      N   7.29   4.65\n",
      "1994  8      Goddard      N   7.61   5.10\n",
      "1995  8      Goddard      N   6.68   4.61\n",
      "1996  8      Goddard      N   8.17   5.65\n",
      "1997  8      Goddard      N   7.30   5.03\n",
      "1998  8      Goddard      N   7.49   4.61\n",
      "1999  8      Goddard      N   7.38   4.67\n",
      "2000  8      Goddard      N   7.21   4.71\n",
      "2001  8      Goddard      N   7.47   4.87\n",
      "2002  8      Goddard      N   6.53   4.23\n",
      "2003  8      Goddard      N   6.85   4.44\n",
      "2004  8      Goddard      N   6.83   4.57\n",
      "2005  8      Goddard      N   6.30   4.14\n",
      "2006  8      Goddard      N   6.52   4.24\n",
      "2007  8      Goddard      N   5.36   3.11\n",
      "2008  8      Goddard      N   6.05   3.47\n",
      "2009  8      Goddard      N   6.28   3.84\n",
      "2010  8      Goddard      N   6.01   3.60\n",
      "2011  8      Goddard      N   5.55   3.06\n",
      "2012  8      Goddard      N   4.71   2.56\n",
      "2013  8      NRTSI-G      N   6.09   3.83\n",
      "1979  9      Goddard      N   7.20   4.53\n",
      "1980  9      Goddard      N   7.85   4.83\n",
      "1981  9      Goddard      N   7.25   4.38\n",
      "1982  9      Goddard      N   7.45   4.38\n",
      "1983  9      Goddard      N   7.52   4.63\n",
      "1984  9      Goddard      N   7.17   4.05\n",
      "1985  9      Goddard      N   6.93   4.17\n",
      "1986  9      Goddard      N   7.54   4.66\n",
      "1987  9      Goddard      N   7.48   5.60\n",
      "1988  9      Goddard      N   7.49   5.31\n",
      "1989  9      Goddard      N   7.04   4.81\n",
      "1990  9      Goddard      N   6.24   4.50\n",
      "1991  9      Goddard      N   6.55   4.46\n",
      "1992  9      Goddard      N   7.55   5.37\n",
      "1993  9      Goddard      N   6.50   4.52\n",
      "1994  9      Goddard      N   7.18   5.08\n",
      "1995  9      Goddard      N   6.13   4.38\n",
      "1996  9      Goddard      N   7.88   5.58\n",
      "1997  9      Goddard      N   6.74   4.84\n",
      "1998  9      Goddard      N   6.56   4.24\n",
      "1999  9      Goddard      N   6.24   4.22\n",
      "2000  9      Goddard      N   6.32   4.31\n",
      "2001  9      Goddard      N   6.75   4.55\n",
      "2002  9      Goddard      N   5.96   3.98\n",
      "2003  9      Goddard      N   6.15   4.01\n",
      "2004  9      Goddard      N   6.05   4.35\n",
      "2005  9      Goddard      N   5.57   4.03\n",
      "2006  9      Goddard      N   5.92   3.97\n",
      "2007  9      Goddard      N   4.30   2.78\n",
      "2008  9      Goddard      N   4.73   2.99\n",
      "2009  9      Goddard      N   5.39   3.47\n",
      "2010  9      Goddard      N   4.93   3.07\n",
      "2011  9      Goddard      N   4.63   2.94\n",
      "2012  9      Goddard      N   3.63   2.15\n",
      "2013  9      NRTSI-G      N   5.35   3.48\n",
      "1979 10      Goddard      N   9.39   6.11\n",
      "1980 10      Goddard      N   9.46   6.42\n",
      "1981 10      Goddard      N   9.19   6.19\n",
      "1982 10      Goddard      N   9.98   6.60\n",
      "1983 10      Goddard      N   9.64   6.70\n",
      "1984 10      Goddard      N   8.84   5.84\n",
      "1985 10      Goddard      N   8.88   6.03\n",
      "1986 10      Goddard      N   9.89   6.77\n",
      "1987 10      Goddard      N   9.29   7.44\n",
      "1988 10      Goddard      N   9.47   7.47\n",
      "1989 10      Goddard      N   9.52   6.90\n",
      "1990 10      Goddard      N   9.35   6.67\n",
      "1991 10      Goddard      N   9.16   6.70\n",
      "1992 10      Goddard      N   9.60   7.69\n",
      "1993 10      Goddard      N   9.18   6.98\n",
      "1994 10      Goddard      N   9.48   7.17\n",
      "1995 10      Goddard      N   8.94   5.91\n",
      "1996 10      Goddard      N   9.39   7.49\n",
      "1997 10      Goddard      N   8.76   6.39\n",
      "1998 10      Goddard      N   8.85   6.65\n",
      "1999 10      Goddard      N   9.10   6.77\n",
      "2000 10      Goddard      N   8.92   6.64\n",
      "2001 10      Goddard      N   8.59   6.59\n",
      "2002 10      Goddard      N   8.81   6.20\n",
      "2003 10      Goddard      N   8.65   5.93\n",
      "2004 10      Goddard      N   8.48   6.35\n",
      "2005 10      Goddard      N   8.45   5.71\n",
      "2006 10      Goddard      N   8.33   5.74\n",
      "2007 10      Goddard      N   6.77   4.21\n",
      "2008 10      Goddard      N   8.42   5.45\n",
      "2009 10      Goddard      N   7.52   4.92\n",
      "2010 10      Goddard      N   7.71   5.19\n",
      "2011 10      Goddard      N   7.14   4.66\n",
      "2012 10      Goddard      N   7.07   4.27\n",
      "2013 10      NRTSI-G      N   8.10   5.54\n",
      "1978 11      Goddard      N  12.01   8.97\n",
      "1979 11      Goddard      N  11.16   8.29\n",
      "1980 11      Goddard      N  11.69   8.64\n",
      "1981 11      Goddard      N  11.17   8.23\n",
      "1982 11      Goddard      N  11.91   8.97\n",
      "1983 11      Goddard      N  11.64   8.91\n",
      "1984 11      Goddard      N  11.29   8.15\n",
      "1985 11      Goddard      N  11.39   8.35\n",
      "1986 11      Goddard      N  11.78   8.81\n",
      "1987 11      Goddard      N  11.52   9.67\n",
      "1988 11      Goddard      N  11.69   9.86\n",
      "1989 11      Goddard      N  11.50   9.38\n",
      "1990 11      Goddard      N  11.31   9.58\n",
      "1991 11      Goddard      N  11.12   9.19\n",
      "1992 11      Goddard      N  11.87   9.69\n",
      "1993 11      Goddard      N  11.73   9.49\n",
      "1994 11      Goddard      N  11.30   9.64\n",
      "1995 11      Goddard      N  10.97   8.95\n",
      "1996 11      Goddard      N  10.56   8.70\n",
      "1997 11      Goddard      N  10.91   9.00\n",
      "1998 11      Goddard      N  10.75   8.82\n",
      "1999 11      Goddard      N  10.99   9.21\n",
      "2000 11      Goddard      N  10.54   8.81\n",
      "2001 11      Goddard      N  10.92   9.02\n",
      "2002 11      Goddard      N  10.78   8.69\n",
      "2003 11      Goddard      N  10.29   8.50\n",
      "2004 11      Goddard      N  10.65   8.90\n",
      "2005 11      Goddard      N  10.47   8.73\n",
      "2006 11      Goddard      N   9.84   8.07\n",
      "2007 11      Goddard      N  10.05   8.00\n",
      "2008 11      Goddard      N  10.62   8.73\n",
      "2009 11      Goddard      N  10.27   8.05\n",
      "2010 11      Goddard      N   9.88   8.11\n",
      "2011 11      Goddard      N  10.00   8.18\n",
      "2012 11      Goddard      N   9.92   7.74\n",
      "2013 11      NRTSI-G      N  10.24   8.26\n",
      "1978 12      Goddard      N  14.12  10.85\n",
      "1979 12      Goddard      N  13.54  10.55\n",
      "1980 12      Goddard      N  13.72  10.71\n",
      "1981 12      Goddard      N  13.74  10.47\n",
      "1982 12      Goddard      N  13.83  10.81\n",
      "1983 12      Goddard      N  13.44  10.56\n",
      "1984 12      Goddard      N  13.18  10.19\n",
      "1985 12      Goddard      N  13.19  10.15\n",
      "1986 12      Goddard      N  13.40  10.46\n",
      "1987 12        -9999      N  -9999  -9999\n",
      "1988 12      Goddard      N  13.78  11.94\n",
      "1989 12      Goddard      N  13.47  11.53\n",
      "1990 12      Goddard      N  13.27  11.40\n",
      "1991 12      Goddard      N  13.17  11.19\n",
      "1992 12      Goddard      N  13.46  11.66\n",
      "1993 12      Goddard      N  13.52  11.41\n",
      "1994 12      Goddard      N  13.53  11.43\n",
      "1995 12      Goddard      N  12.98  11.02\n",
      "1996 12      Goddard      N  13.14  10.96\n",
      "1997 12      Goddard      N  13.29  11.19\n",
      "1998 12      Goddard      N  13.26  10.85\n",
      "1999 12      Goddard      N  12.88  10.93\n",
      "2000 12      Goddard      N  12.81  10.90\n",
      "2001 12      Goddard      N  12.84  10.49\n",
      "2002 12      Goddard      N  12.82  10.58\n",
      "2003 12      Goddard      N  12.82  10.74\n",
      "2004 12      Goddard      N  12.72  10.91\n",
      "2005 12      Goddard      N  12.47  10.51\n",
      "2006 12      Goddard      N  12.27  10.10\n",
      "2007 12      Goddard      N  12.39  10.11\n",
      "2008 12      Goddard      N  12.52  10.64\n",
      "2009 12      Goddard      N  12.51  10.25\n",
      "2010 12      Goddard      N  12.02  10.08\n",
      "2011 12      Goddard      N  12.40  10.28\n",
      "2012 12      Goddard      N  12.20  10.11\n",
      "2013 12      NRTSI-G      N  12.38  10.48\n"
     ]
    }
   ],
   "source": [
    "with open(\"SeaIce.txt\", 'r') as input_file:\n",
    "    print('File content:\\n' + input_file.read())"
   ]
  },
  {
   "cell_type": "markdown",
   "metadata": {},
   "source": [
    "The entire dataset is loaded from the library into free memory. Of course, the loading process will fail if your system lacks sufficient memory to hold the dataset. When this problem occurs, you need to consider other techniques\n",
    "for working with the dataset, such as **streaming** it or **sampling** it.\n",
    "\n",
    "Here’s an example of how you can stream data using Python:"
   ]
  },
  {
   "cell_type": "code",
   "execution_count": 89,
   "metadata": {
    "ExecuteTime": {
     "end_time": "2019-11-12T10:46:32.765878Z",
     "start_time": "2019-11-12T10:46:32.753962Z"
    }
   },
   "outputs": [
    {
     "name": "stdout",
     "output_type": "stream",
     "text": [
      "Reading Data: year mo    data_type region extent   area\n",
      "Reading Data: 1979  1      Goddard      N  15.54  12.33\n",
      "Reading Data: 1980  1      Goddard      N  14.96  11.85\n",
      "Reading Data: 1981  1      Goddard      N  15.03  11.82\n",
      "Reading Data: 1982  1      Goddard      N  15.26  12.11\n",
      "Reading Data: 1983  1      Goddard      N  15.10  11.92\n",
      "Reading Data: 1984  1      Goddard      N  14.61  11.60\n",
      "Reading Data: 1985  1      Goddard      N  14.86  11.60\n",
      "Reading Data: 1986  1      Goddard      N  15.02  11.79\n",
      "Reading Data: 1987  1      Goddard      N  15.20  11.81\n",
      "Reading Data: 1988  1        -9999      N  -9999  -9999\n",
      "Reading Data: 1989  1      Goddard      N  15.12  13.11\n",
      "Reading Data: 1990  1      Goddard      N  14.95  12.72\n",
      "Reading Data: 1991  1      Goddard      N  14.46  12.49\n",
      "Reading Data: 1992  1      Goddard      N  14.72  12.54\n",
      "Reading Data: 1993  1      Goddard      N  15.08  12.85\n",
      "Reading Data: 1994  1      Goddard      N  14.82  12.80\n",
      "Reading Data: 1995  1      Goddard      N  14.62  12.72\n",
      "Reading Data: 1996  1      Goddard      N  14.21  12.07\n",
      "Reading Data: 1997  1      Goddard      N  14.47  12.30\n",
      "Reading Data: 1998  1      Goddard      N  14.81  12.73\n",
      "Reading Data: 1999  1      Goddard      N  14.47  12.54\n",
      "Reading Data: 2000  1      Goddard      N  14.41  12.22\n",
      "Reading Data: 2001  1      Goddard      N  14.31  12.27\n",
      "Reading Data: 2002  1      Goddard      N  14.45  12.19\n",
      "Reading Data: 2003  1      Goddard      N  14.46  12.21\n",
      "Reading Data: 2004  1      Goddard      N  14.03  12.19\n",
      "Reading Data: 2005  1      Goddard      N  13.66  11.84\n",
      "Reading Data: 2006  1      Goddard      N  13.60  11.57\n",
      "Reading Data: 2007  1      Goddard      N  13.77  11.79\n",
      "Reading Data: 2008  1      Goddard      N  14.05  11.95\n",
      "Reading Data: 2009  1      Goddard      N  14.08  11.97\n",
      "Reading Data: 2010  1      Goddard      N  13.80  11.68\n",
      "Reading Data: 2011  1      Goddard      N  13.57  11.47\n",
      "Reading Data: 2012  1      Goddard      N  13.77  11.87\n",
      "Reading Data: 2013  1      NRTSI-G      N  13.78  11.57\n",
      "Reading Data: 2014  1      NRTSI-G      N  13.73  11.66\n",
      "Reading Data: 1979  2      Goddard      N  16.31  13.11\n",
      "Reading Data: 1980  2      Goddard      N  15.98  12.82\n",
      "Reading Data: 1981  2      Goddard      N  15.65  12.45\n",
      "Reading Data: 1982  2      Goddard      N  16.06  12.79\n",
      "Reading Data: 1983  2      Goddard      N  16.02  12.86\n",
      "Reading Data: 1984  2      Goddard      N  15.32  12.17\n",
      "Reading Data: 1985  2      Goddard      N  15.67  12.39\n",
      "Reading Data: 1986  2      Goddard      N  15.89  12.53\n",
      "Reading Data: 1987  2      Goddard      N  16.11  12.93\n",
      "Reading Data: 1988  2      Goddard      N  15.61  13.49\n",
      "Reading Data: 1989  2      Goddard      N  15.56  13.28\n",
      "Reading Data: 1990  2      Goddard      N  15.56  13.33\n",
      "Reading Data: 1991  2      Goddard      N  15.26  13.15\n",
      "Reading Data: 1992  2      Goddard      N  15.50  13.51\n",
      "Reading Data: 1993  2      Goddard      N  15.73  13.54\n",
      "Reading Data: 1994  2      Goddard      N  15.61  13.46\n",
      "Reading Data: 1995  2      Goddard      N  15.24  13.30\n",
      "Reading Data: 1996  2      Goddard      N  15.17  12.90\n",
      "Reading Data: 1997  2      Goddard      N  15.52  13.36\n",
      "Reading Data: 1998  2      Goddard      N  15.77  13.70\n",
      "Reading Data: 1999  2      Goddard      N  15.37  13.38\n",
      "Reading Data: 2000  2      Goddard      N  15.18  13.02\n",
      "Reading Data: 2001  2      Goddard      N  15.27  13.14\n",
      "Reading Data: 2002  2      Goddard      N  15.36  13.36\n",
      "Reading Data: 2003  2      Goddard      N  15.25  13.16\n",
      "Reading Data: 2004  2      Goddard      N  14.93  12.87\n",
      "Reading Data: 2005  2      Goddard      N  14.36  12.27\n",
      "Reading Data: 2006  2      Goddard      N  14.42  12.28\n",
      "Reading Data: 2007  2      Goddard      N  14.53  12.52\n",
      "Reading Data: 2008  2      Goddard      N  15.01  12.87\n",
      "Reading Data: 2009  2      Goddard      N  14.85  12.87\n",
      "Reading Data: 2010  2      Goddard      N  14.59  12.60\n",
      "Reading Data: 2011  2      Goddard      N  14.38  12.41\n",
      "Reading Data: 2012  2      Goddard      N  14.59  12.37\n",
      "Reading Data: 2013  2      Goddard      N  14.69  12.84\n",
      "Reading Data: 2014  2      NRTSI-G      N  14.44  12.12\n",
      "Reading Data: 1979  3      Goddard      N  16.45  13.13\n",
      "Reading Data: 1980  3      Goddard      N  16.13  12.92\n",
      "Reading Data: 1981  3      Goddard      N  15.61  12.62\n",
      "Reading Data: 1982  3      Goddard      N  16.15  12.99\n",
      "Reading Data: 1983  3      Goddard      N  16.10  12.84\n",
      "Reading Data: 1984  3      Goddard      N  15.62  12.48\n",
      "Reading Data: 1985  3      Goddard      N  16.06  12.66\n",
      "Reading Data: 1986  3      Goddard      N  16.08  12.65\n",
      "Reading Data: 1987  3      Goddard      N  15.95  12.75\n",
      "Reading Data: 1988  3      Goddard      N  16.13  13.84\n",
      "Reading Data: 1989  3      Goddard      N  15.52  13.14\n",
      "Reading Data: 1990  3      Goddard      N  15.88  13.44\n",
      "Reading Data: 1991  3      Goddard      N  15.50  13.35\n",
      "Reading Data: 1992  3      Goddard      N  15.47  13.41\n",
      "Reading Data: 1993  3      Goddard      N  15.88  13.71\n",
      "Reading Data: 1994  3      Goddard      N  15.58  13.47\n",
      "Reading Data: 1995  3      Goddard      N  15.32  13.28\n",
      "Reading Data: 1996  3      Goddard      N  15.13  12.83\n",
      "Reading Data: 1997  3      Goddard      N  15.58  13.24\n",
      "Reading Data: 1998  3      Goddard      N  15.66  13.50\n",
      "Reading Data: 1999  3      Goddard      N  15.40  13.47\n",
      "Reading Data: 2000  3      Goddard      N  15.27  13.10\n",
      "Reading Data: 2001  3      Goddard      N  15.61  13.57\n",
      "Reading Data: 2002  3      Goddard      N  15.44  13.36\n",
      "Reading Data: 2003  3      Goddard      N  15.49  13.36\n",
      "Reading Data: 2004  3      Goddard      N  15.05  12.93\n",
      "Reading Data: 2005  3      Goddard      N  14.74  12.67\n",
      "Reading Data: 2006  3      Goddard      N  14.43  12.44\n",
      "Reading Data: 2007  3      Goddard      N  14.65  12.49\n",
      "Reading Data: 2008  3      Goddard      N  15.22  13.20\n",
      "Reading Data: 2009  3      Goddard      N  15.14  13.08\n",
      "Reading Data: 2010  3      Goddard      N  15.11  13.19\n",
      "Reading Data: 2011  3      Goddard      N  14.58  12.48\n",
      "Reading Data: 2012  3      Goddard      N  15.24  13.08\n",
      "Reading Data: 2013  3      NRTSI-G      N  15.04  13.02\n",
      "Reading Data: 1979  4      Goddard      N  15.46  12.43\n",
      "Reading Data: 1980  4      Goddard      N  15.49  12.45\n",
      "Reading Data: 1981  4      Goddard      N  15.12  12.16\n",
      "Reading Data: 1982  4      Goddard      N  15.57  12.55\n",
      "Reading Data: 1983  4      Goddard      N  15.30  12.12\n",
      "Reading Data: 1984  4      Goddard      N  15.15  12.10\n",
      "Reading Data: 1985  4      Goddard      N  15.34  12.46\n",
      "Reading Data: 1986  4      Goddard      N  15.15  11.95\n",
      "Reading Data: 1987  4      Goddard      N  15.33  12.28\n",
      "Reading Data: 1988  4      Goddard      N  15.21  13.11\n",
      "Reading Data: 1989  4      Goddard      N  14.44  12.26\n",
      "Reading Data: 1990  4      Goddard      N  14.68  12.16\n",
      "Reading Data: 1991  4      Goddard      N  14.93  12.79\n",
      "Reading Data: 1992  4      Goddard      N  14.70  12.76\n",
      "Reading Data: 1993  4      Goddard      N  15.18  12.95\n",
      "Reading Data: 1994  4      Goddard      N  14.95  12.84\n",
      "Reading Data: 1995  4      Goddard      N  14.59  12.32\n",
      "Reading Data: 1996  4      Goddard      N  14.22  12.23\n",
      "Reading Data: 1997  4      Goddard      N  14.59  12.48\n",
      "Reading Data: 1998  4      Goddard      N  14.89  12.77\n",
      "Reading Data: 1999  4      Goddard      N  15.13  13.08\n",
      "Reading Data: 2000  4      Goddard      N  14.63  12.51\n",
      "Reading Data: 2001  4      Goddard      N  14.86  12.99\n",
      "Reading Data: 2002  4      Goddard      N  14.37  12.35\n",
      "Reading Data: 2003  4      Goddard      N  14.57  12.38\n",
      "Reading Data: 2004  4      Goddard      N  14.11  12.08\n",
      "Reading Data: 2005  4      Goddard      N  14.07  12.16\n",
      "Reading Data: 2006  4      Goddard      N  13.97  11.97\n",
      "Reading Data: 2007  4      Goddard      N  13.87  11.75\n",
      "Reading Data: 2008  4      Goddard      N  14.42  12.43\n",
      "Reading Data: 2009  4      Goddard      N  14.57  12.58\n",
      "Reading Data: 2010  4      Goddard      N  14.70  12.50\n",
      "Reading Data: 2011  4      Goddard      N  14.16  12.11\n",
      "Reading Data: 2012  4      Goddard      N  14.72  12.53\n",
      "Reading Data: 2013  4      NRTSI-G      N  14.37  12.33\n",
      "Reading Data: 1979  5      Goddard      N  14.06  11.04\n",
      "Reading Data: 1980  5      Goddard      N  14.04  10.88\n",
      "Reading Data: 1981  5      Goddard      N  13.90  10.93\n",
      "Reading Data: 1982  5      Goddard      N  14.17  11.10\n",
      "Reading Data: 1983  5      Goddard      N  13.54  10.80\n",
      "Reading Data: 1984  5      Goddard      N  13.68  10.81\n",
      "Reading Data: 1985  5      Goddard      N  14.23  11.19\n",
      "Reading Data: 1986  5      Goddard      N  13.52  10.63\n",
      "Reading Data: 1987  5      Goddard      N  13.81  10.91\n",
      "Reading Data: 1988  5      Goddard      N  13.69  11.35\n",
      "Reading Data: 1989  5      Goddard      N  12.98  11.30\n",
      "Reading Data: 1990  5      Goddard      N  13.30  10.84\n",
      "Reading Data: 1991  5      Goddard      N  13.51  11.44\n",
      "Reading Data: 1992  5      Goddard      N  13.25  11.37\n",
      "Reading Data: 1993  5      Goddard      N  13.54  11.35\n",
      "Reading Data: 1994  5      Goddard      N  13.73  11.60\n",
      "Reading Data: 1995  5      Goddard      N  13.04  10.76\n",
      "Reading Data: 1996  5      Goddard      N  13.06  11.22\n",
      "Reading Data: 1997  5      Goddard      N  13.32  11.17\n",
      "Reading Data: 1998  5      Goddard      N  13.80  11.35\n",
      "Reading Data: 1999  5      Goddard      N  13.86  11.61\n",
      "Reading Data: 2000  5      Goddard      N  13.18  11.18\n",
      "Reading Data: 2001  5      Goddard      N  13.72  11.32\n",
      "Reading Data: 2002  5      Goddard      N  13.12  11.11\n",
      "Reading Data: 2003  5      Goddard      N  13.00  10.82\n",
      "Reading Data: 2004  5      Goddard      N  12.58  10.86\n",
      "Reading Data: 2005  5      Goddard      N  12.99  10.83\n",
      "Reading Data: 2006  5      Goddard      N  12.62  10.39\n",
      "Reading Data: 2007  5      Goddard      N  12.89  10.71\n",
      "Reading Data: 2008  5      Goddard      N  13.19  10.92\n",
      "Reading Data: 2009  5      Goddard      N  13.40  11.15\n",
      "Reading Data: 2010  5      Goddard      N  13.11  10.54\n",
      "Reading Data: 2011  5      Goddard      N  12.81  10.41\n",
      "Reading Data: 2012  5      Goddard      N  13.12  10.72\n",
      "Reading Data: 2013  5      NRTSI-G      N  13.10  10.87\n",
      "Reading Data: 1979  6      Goddard      N  12.59   9.28\n",
      "Reading Data: 1980  6      Goddard      N  12.31   8.93\n",
      "Reading Data: 1981  6      Goddard      N  12.57   8.96\n",
      "Reading Data: 1982  6      Goddard      N  12.69   9.40\n",
      "Reading Data: 1983  6      Goddard      N  12.36   9.20\n",
      "Reading Data: 1984  6      Goddard      N  12.20   9.02\n",
      "Reading Data: 1985  6      Goddard      N  12.40   8.88\n",
      "Reading Data: 1986  6      Goddard      N  12.10   8.93\n",
      "Reading Data: 1987  6      Goddard      N  12.57   9.32\n",
      "Reading Data: 1988  6      Goddard      N  12.02   9.62\n",
      "Reading Data: 1989  6      Goddard      N  12.31   9.90\n",
      "Reading Data: 1990  6      Goddard      N  11.68   9.12\n",
      "Reading Data: 1991  6      Goddard      N  12.23   9.60\n",
      "Reading Data: 1992  6      Goddard      N  12.13   9.89\n",
      "Reading Data: 1993  6      Goddard      N  11.99   9.20\n",
      "Reading Data: 1994  6      Goddard      N  12.10   9.62\n",
      "Reading Data: 1995  6      Goddard      N  11.55   8.86\n",
      "Reading Data: 1996  6      Goddard      N  12.10   9.78\n",
      "Reading Data: 1997  6      Goddard      N  11.91   9.14\n",
      "Reading Data: 1998  6      Goddard      N  11.85   9.11\n",
      "Reading Data: 1999  6      Goddard      N  12.10   9.18\n",
      "Reading Data: 2000  6      Goddard      N  11.71   8.99\n",
      "Reading Data: 2001  6      Goddard      N  11.69   9.01\n",
      "Reading Data: 2002  6      Goddard      N  11.69   9.13\n",
      "Reading Data: 2003  6      Goddard      N  11.77   9.05\n",
      "Reading Data: 2004  6      Goddard      N  11.51   9.18\n",
      "Reading Data: 2005  6      Goddard      N  11.29   8.74\n",
      "Reading Data: 2006  6      Goddard      N  11.06   8.34\n",
      "Reading Data: 2007  6      Goddard      N  11.49   8.15\n",
      "Reading Data: 2008  6      Goddard      N  11.36   8.52\n",
      "Reading Data: 2009  6      Goddard      N  11.46   8.92\n",
      "Reading Data: 2010  6      Goddard      N  10.82   8.02\n",
      "Reading Data: 2011  6      Goddard      N  10.99   8.20\n",
      "Reading Data: 2012  6      Goddard      N  10.92   7.77\n",
      "Reading Data: 2013  6      NRTSI-G      N  11.58   8.57\n",
      "Reading Data: 1979  7      Goddard      N  10.47   6.59\n",
      "Reading Data: 1980  7      Goddard      N  10.39   6.45\n",
      "Reading Data: 1981  7      Goddard      N  10.62   6.23\n",
      "Reading Data: 1982  7      Goddard      N  10.75   6.79\n",
      "Reading Data: 1983  7      Goddard      N  10.91   6.79\n",
      "Reading Data: 1984  7      Goddard      N  10.15   6.19\n",
      "Reading Data: 1985  7      Goddard      N  10.09   5.89\n",
      "Reading Data: 1986  7      Goddard      N  10.47   6.53\n",
      "Reading Data: 1987  7      Goddard      N   9.98   6.84\n",
      "Reading Data: 1988  7      Goddard      N  10.04   6.93\n",
      "Reading Data: 1989  7      Goddard      N  10.38   7.24\n",
      "Reading Data: 1990  7      Goddard      N   9.62   6.44\n",
      "Reading Data: 1991  7      Goddard      N   9.68   6.66\n",
      "Reading Data: 1992  7      Goddard      N  10.61   7.14\n",
      "Reading Data: 1993  7      Goddard      N   9.66   6.17\n",
      "Reading Data: 1994  7      Goddard      N  10.22   6.85\n",
      "Reading Data: 1995  7      Goddard      N   9.15   6.05\n",
      "Reading Data: 1996  7      Goddard      N  10.36   7.36\n",
      "Reading Data: 1997  7      Goddard      N   9.59   6.41\n",
      "Reading Data: 1998  7      Goddard      N   9.62   6.38\n",
      "Reading Data: 1999  7      Goddard      N   9.59   6.49\n",
      "Reading Data: 2000  7      Goddard      N   9.75   6.31\n",
      "Reading Data: 2001  7      Goddard      N   9.22   6.22\n",
      "Reading Data: 2002  7      Goddard      N   9.49   6.34\n",
      "Reading Data: 2003  7      Goddard      N   9.46   6.06\n",
      "Reading Data: 2004  7      Goddard      N   9.60   6.43\n",
      "Reading Data: 2005  7      Goddard      N   8.93   5.81\n",
      "Reading Data: 2006  7      Goddard      N   8.67   5.71\n",
      "Reading Data: 2007  7      Goddard      N   8.13   5.03\n",
      "Reading Data: 2008  7      Goddard      N   8.99   5.74\n",
      "Reading Data: 2009  7      Goddard      N   8.80   5.77\n",
      "Reading Data: 2010  7      Goddard      N   8.36   5.27\n",
      "Reading Data: 2011  7      Goddard      N   7.91   5.04\n",
      "Reading Data: 2012  7      Goddard      N   7.93   4.76\n",
      "Reading Data: 2013  7      NRTSI-G      N   8.45   5.41\n",
      "Reading Data: 1979  8      Goddard      N   8.15   4.96\n",
      "Reading Data: 1980  8      Goddard      N   8.04   4.84\n",
      "Reading Data: 1981  8      Goddard      N   7.86   4.38\n",
      "Reading Data: 1982  8      Goddard      N   8.26   4.92\n",
      "Reading Data: 1983  8      Goddard      N   8.36   4.88\n",
      "Reading Data: 1984  8      Goddard      N   7.87   4.59\n",
      "Reading Data: 1985  8      Goddard      N   7.46   4.51\n",
      "Reading Data: 1986  8      Goddard      N   8.01   4.92\n",
      "Reading Data: 1987  8      Goddard      N   7.69   5.35\n",
      "Reading Data: 1988  8      Goddard      N   7.90   5.34\n",
      "Reading Data: 1989  8      Goddard      N   7.92   5.48\n",
      "Reading Data: 1990  8      Goddard      N   6.82   4.92\n",
      "Reading Data: 1991  8      Goddard      N   7.40   5.14\n",
      "Reading Data: 1992  8      Goddard      N   7.86   5.35\n",
      "Reading Data: 1993  8      Goddard      N   7.29   4.65\n",
      "Reading Data: 1994  8      Goddard      N   7.61   5.10\n",
      "Reading Data: 1995  8      Goddard      N   6.68   4.61\n",
      "Reading Data: 1996  8      Goddard      N   8.17   5.65\n",
      "Reading Data: 1997  8      Goddard      N   7.30   5.03\n",
      "Reading Data: 1998  8      Goddard      N   7.49   4.61\n",
      "Reading Data: 1999  8      Goddard      N   7.38   4.67\n",
      "Reading Data: 2000  8      Goddard      N   7.21   4.71\n",
      "Reading Data: 2001  8      Goddard      N   7.47   4.87\n",
      "Reading Data: 2002  8      Goddard      N   6.53   4.23\n",
      "Reading Data: 2003  8      Goddard      N   6.85   4.44\n",
      "Reading Data: 2004  8      Goddard      N   6.83   4.57\n",
      "Reading Data: 2005  8      Goddard      N   6.30   4.14\n",
      "Reading Data: 2006  8      Goddard      N   6.52   4.24\n",
      "Reading Data: 2007  8      Goddard      N   5.36   3.11\n",
      "Reading Data: 2008  8      Goddard      N   6.05   3.47\n",
      "Reading Data: 2009  8      Goddard      N   6.28   3.84\n",
      "Reading Data: 2010  8      Goddard      N   6.01   3.60\n",
      "Reading Data: 2011  8      Goddard      N   5.55   3.06\n",
      "Reading Data: 2012  8      Goddard      N   4.71   2.56\n",
      "Reading Data: 2013  8      NRTSI-G      N   6.09   3.83\n",
      "Reading Data: 1979  9      Goddard      N   7.20   4.53\n",
      "Reading Data: 1980  9      Goddard      N   7.85   4.83\n",
      "Reading Data: 1981  9      Goddard      N   7.25   4.38\n",
      "Reading Data: 1982  9      Goddard      N   7.45   4.38\n",
      "Reading Data: 1983  9      Goddard      N   7.52   4.63\n",
      "Reading Data: 1984  9      Goddard      N   7.17   4.05\n",
      "Reading Data: 1985  9      Goddard      N   6.93   4.17\n",
      "Reading Data: 1986  9      Goddard      N   7.54   4.66\n",
      "Reading Data: 1987  9      Goddard      N   7.48   5.60\n",
      "Reading Data: 1988  9      Goddard      N   7.49   5.31\n",
      "Reading Data: 1989  9      Goddard      N   7.04   4.81\n",
      "Reading Data: 1990  9      Goddard      N   6.24   4.50\n",
      "Reading Data: 1991  9      Goddard      N   6.55   4.46\n",
      "Reading Data: 1992  9      Goddard      N   7.55   5.37\n",
      "Reading Data: 1993  9      Goddard      N   6.50   4.52\n",
      "Reading Data: 1994  9      Goddard      N   7.18   5.08\n",
      "Reading Data: 1995  9      Goddard      N   6.13   4.38\n",
      "Reading Data: 1996  9      Goddard      N   7.88   5.58\n",
      "Reading Data: 1997  9      Goddard      N   6.74   4.84\n",
      "Reading Data: 1998  9      Goddard      N   6.56   4.24\n",
      "Reading Data: 1999  9      Goddard      N   6.24   4.22\n",
      "Reading Data: 2000  9      Goddard      N   6.32   4.31\n",
      "Reading Data: 2001  9      Goddard      N   6.75   4.55\n",
      "Reading Data: 2002  9      Goddard      N   5.96   3.98\n",
      "Reading Data: 2003  9      Goddard      N   6.15   4.01\n",
      "Reading Data: 2004  9      Goddard      N   6.05   4.35\n",
      "Reading Data: 2005  9      Goddard      N   5.57   4.03\n",
      "Reading Data: 2006  9      Goddard      N   5.92   3.97\n",
      "Reading Data: 2007  9      Goddard      N   4.30   2.78\n",
      "Reading Data: 2008  9      Goddard      N   4.73   2.99\n",
      "Reading Data: 2009  9      Goddard      N   5.39   3.47\n",
      "Reading Data: 2010  9      Goddard      N   4.93   3.07\n",
      "Reading Data: 2011  9      Goddard      N   4.63   2.94\n",
      "Reading Data: 2012  9      Goddard      N   3.63   2.15\n",
      "Reading Data: 2013  9      NRTSI-G      N   5.35   3.48\n",
      "Reading Data: 1979 10      Goddard      N   9.39   6.11\n",
      "Reading Data: 1980 10      Goddard      N   9.46   6.42\n",
      "Reading Data: 1981 10      Goddard      N   9.19   6.19\n",
      "Reading Data: 1982 10      Goddard      N   9.98   6.60\n",
      "Reading Data: 1983 10      Goddard      N   9.64   6.70\n",
      "Reading Data: 1984 10      Goddard      N   8.84   5.84\n",
      "Reading Data: 1985 10      Goddard      N   8.88   6.03\n",
      "Reading Data: 1986 10      Goddard      N   9.89   6.77\n",
      "Reading Data: 1987 10      Goddard      N   9.29   7.44\n",
      "Reading Data: 1988 10      Goddard      N   9.47   7.47\n",
      "Reading Data: 1989 10      Goddard      N   9.52   6.90\n",
      "Reading Data: 1990 10      Goddard      N   9.35   6.67\n",
      "Reading Data: 1991 10      Goddard      N   9.16   6.70\n",
      "Reading Data: 1992 10      Goddard      N   9.60   7.69\n",
      "Reading Data: 1993 10      Goddard      N   9.18   6.98\n",
      "Reading Data: 1994 10      Goddard      N   9.48   7.17\n",
      "Reading Data: 1995 10      Goddard      N   8.94   5.91\n",
      "Reading Data: 1996 10      Goddard      N   9.39   7.49\n",
      "Reading Data: 1997 10      Goddard      N   8.76   6.39\n",
      "Reading Data: 1998 10      Goddard      N   8.85   6.65\n",
      "Reading Data: 1999 10      Goddard      N   9.10   6.77\n",
      "Reading Data: 2000 10      Goddard      N   8.92   6.64\n",
      "Reading Data: 2001 10      Goddard      N   8.59   6.59\n",
      "Reading Data: 2002 10      Goddard      N   8.81   6.20\n",
      "Reading Data: 2003 10      Goddard      N   8.65   5.93\n",
      "Reading Data: 2004 10      Goddard      N   8.48   6.35\n",
      "Reading Data: 2005 10      Goddard      N   8.45   5.71\n",
      "Reading Data: 2006 10      Goddard      N   8.33   5.74\n",
      "Reading Data: 2007 10      Goddard      N   6.77   4.21\n",
      "Reading Data: 2008 10      Goddard      N   8.42   5.45\n",
      "Reading Data: 2009 10      Goddard      N   7.52   4.92\n",
      "Reading Data: 2010 10      Goddard      N   7.71   5.19\n",
      "Reading Data: 2011 10      Goddard      N   7.14   4.66\n",
      "Reading Data: 2012 10      Goddard      N   7.07   4.27\n",
      "Reading Data: 2013 10      NRTSI-G      N   8.10   5.54\n",
      "Reading Data: 1978 11      Goddard      N  12.01   8.97\n",
      "Reading Data: 1979 11      Goddard      N  11.16   8.29\n",
      "Reading Data: 1980 11      Goddard      N  11.69   8.64\n",
      "Reading Data: 1981 11      Goddard      N  11.17   8.23\n",
      "Reading Data: 1982 11      Goddard      N  11.91   8.97\n",
      "Reading Data: 1983 11      Goddard      N  11.64   8.91\n",
      "Reading Data: 1984 11      Goddard      N  11.29   8.15\n",
      "Reading Data: 1985 11      Goddard      N  11.39   8.35\n",
      "Reading Data: 1986 11      Goddard      N  11.78   8.81\n",
      "Reading Data: 1987 11      Goddard      N  11.52   9.67\n",
      "Reading Data: 1988 11      Goddard      N  11.69   9.86\n",
      "Reading Data: 1989 11      Goddard      N  11.50   9.38\n",
      "Reading Data: 1990 11      Goddard      N  11.31   9.58\n",
      "Reading Data: 1991 11      Goddard      N  11.12   9.19\n",
      "Reading Data: 1992 11      Goddard      N  11.87   9.69\n",
      "Reading Data: 1993 11      Goddard      N  11.73   9.49\n",
      "Reading Data: 1994 11      Goddard      N  11.30   9.64\n",
      "Reading Data: 1995 11      Goddard      N  10.97   8.95\n",
      "Reading Data: 1996 11      Goddard      N  10.56   8.70\n",
      "Reading Data: 1997 11      Goddard      N  10.91   9.00\n",
      "Reading Data: 1998 11      Goddard      N  10.75   8.82\n",
      "Reading Data: 1999 11      Goddard      N  10.99   9.21\n",
      "Reading Data: 2000 11      Goddard      N  10.54   8.81\n",
      "Reading Data: 2001 11      Goddard      N  10.92   9.02\n",
      "Reading Data: 2002 11      Goddard      N  10.78   8.69\n",
      "Reading Data: 2003 11      Goddard      N  10.29   8.50\n",
      "Reading Data: 2004 11      Goddard      N  10.65   8.90\n",
      "Reading Data: 2005 11      Goddard      N  10.47   8.73\n",
      "Reading Data: 2006 11      Goddard      N   9.84   8.07\n",
      "Reading Data: 2007 11      Goddard      N  10.05   8.00\n",
      "Reading Data: 2008 11      Goddard      N  10.62   8.73\n",
      "Reading Data: 2009 11      Goddard      N  10.27   8.05\n",
      "Reading Data: 2010 11      Goddard      N   9.88   8.11\n",
      "Reading Data: 2011 11      Goddard      N  10.00   8.18\n",
      "Reading Data: 2012 11      Goddard      N   9.92   7.74\n",
      "Reading Data: 2013 11      NRTSI-G      N  10.24   8.26\n",
      "Reading Data: 1978 12      Goddard      N  14.12  10.85\n",
      "Reading Data: 1979 12      Goddard      N  13.54  10.55\n",
      "Reading Data: 1980 12      Goddard      N  13.72  10.71\n",
      "Reading Data: 1981 12      Goddard      N  13.74  10.47\n",
      "Reading Data: 1982 12      Goddard      N  13.83  10.81\n",
      "Reading Data: 1983 12      Goddard      N  13.44  10.56\n",
      "Reading Data: 1984 12      Goddard      N  13.18  10.19\n",
      "Reading Data: 1985 12      Goddard      N  13.19  10.15\n",
      "Reading Data: 1986 12      Goddard      N  13.40  10.46\n",
      "Reading Data: 1987 12        -9999      N  -9999  -9999\n",
      "Reading Data: 1988 12      Goddard      N  13.78  11.94\n",
      "Reading Data: 1989 12      Goddard      N  13.47  11.53\n",
      "Reading Data: 1990 12      Goddard      N  13.27  11.40\n",
      "Reading Data: 1991 12      Goddard      N  13.17  11.19\n",
      "Reading Data: 1992 12      Goddard      N  13.46  11.66\n",
      "Reading Data: 1993 12      Goddard      N  13.52  11.41\n",
      "Reading Data: 1994 12      Goddard      N  13.53  11.43\n",
      "Reading Data: 1995 12      Goddard      N  12.98  11.02\n",
      "Reading Data: 1996 12      Goddard      N  13.14  10.96\n",
      "Reading Data: 1997 12      Goddard      N  13.29  11.19\n",
      "Reading Data: 1998 12      Goddard      N  13.26  10.85\n",
      "Reading Data: 1999 12      Goddard      N  12.88  10.93\n",
      "Reading Data: 2000 12      Goddard      N  12.81  10.90\n",
      "Reading Data: 2001 12      Goddard      N  12.84  10.49\n",
      "Reading Data: 2002 12      Goddard      N  12.82  10.58\n",
      "Reading Data: 2003 12      Goddard      N  12.82  10.74\n",
      "Reading Data: 2004 12      Goddard      N  12.72  10.91\n",
      "Reading Data: 2005 12      Goddard      N  12.47  10.51\n",
      "Reading Data: 2006 12      Goddard      N  12.27  10.10\n",
      "Reading Data: 2007 12      Goddard      N  12.39  10.11\n",
      "Reading Data: 2008 12      Goddard      N  12.52  10.64\n",
      "Reading Data: 2009 12      Goddard      N  12.51  10.25\n",
      "Reading Data: 2010 12      Goddard      N  12.02  10.08\n",
      "Reading Data: 2011 12      Goddard      N  12.40  10.28\n",
      "Reading Data: 2012 12      Goddard      N  12.20  10.11\n",
      "Reading Data: 2013 12      NRTSI-G      N  12.38  10.48"
     ]
    }
   ],
   "source": [
    "with open(\"SeaIce.txt\", 'r') as input_file:\n",
    "    for observation in input_file:\n",
    "        print('Reading Data: ' + observation,end=\"\")"
   ]
  },
  {
   "cell_type": "markdown",
   "metadata": {},
   "source": [
    "The ``input_file`` file object contains a pointer to the open file. As the code performs data reads in the for loop, the file pointer moves to the next record.\n",
    "\n",
    "Data streaming obtains all the records from a data source. You may find that\n",
    "you don’t need all the records. You can save time and resources by simply\n",
    "sampling the data."
   ]
  },
  {
   "cell_type": "code",
   "execution_count": 90,
   "metadata": {
    "ExecuteTime": {
     "end_time": "2019-11-12T10:46:39.081764Z",
     "start_time": "2019-11-12T10:46:39.076561Z"
    }
   },
   "outputs": [
    {
     "name": "stdout",
     "output_type": "stream",
     "text": [
      "Reading Line: 0 Content: year mo    data_type region extent   area\n",
      "Reading Line: 17 Content: 1995  1      Goddard      N  14.62  12.72\n",
      "Reading Line: 34 Content: 2012  1      Goddard      N  13.77  11.87\n",
      "Reading Line: 51 Content: 1993  2      Goddard      N  15.73  13.54\n",
      "Reading Line: 68 Content: 2010  2      Goddard      N  14.59  12.60\n",
      "Reading Line: 85 Content: 1991  3      Goddard      N  15.50  13.35\n",
      "Reading Line: 102 Content: 2008  3      Goddard      N  15.22  13.20\n",
      "Reading Line: 119 Content: 1990  4      Goddard      N  14.68  12.16\n",
      "Reading Line: 136 Content: 2007  4      Goddard      N  13.87  11.75\n",
      "Reading Line: 153 Content: 1989  5      Goddard      N  12.98  11.30\n",
      "Reading Line: 170 Content: 2006  5      Goddard      N  12.62  10.39\n",
      "Reading Line: 187 Content: 1988  6      Goddard      N  12.02   9.62\n",
      "Reading Line: 204 Content: 2005  6      Goddard      N  11.29   8.74\n",
      "Reading Line: 221 Content: 1987  7      Goddard      N   9.98   6.84\n",
      "Reading Line: 238 Content: 2004  7      Goddard      N   9.60   6.43\n",
      "Reading Line: 255 Content: 1986  8      Goddard      N   8.01   4.92\n",
      "Reading Line: 272 Content: 2003  8      Goddard      N   6.85   4.44\n",
      "Reading Line: 289 Content: 1985  9      Goddard      N   6.93   4.17\n",
      "Reading Line: 306 Content: 2002  9      Goddard      N   5.96   3.98\n",
      "Reading Line: 323 Content: 1984 10      Goddard      N   8.84   5.84\n",
      "Reading Line: 340 Content: 2001 10      Goddard      N   8.59   6.59\n",
      "Reading Line: 357 Content: 1982 11      Goddard      N  11.91   8.97\n",
      "Reading Line: 374 Content: 1999 11      Goddard      N  10.99   9.21\n",
      "Reading Line: 391 Content: 1980 12      Goddard      N  13.72  10.71\n",
      "Reading Line: 408 Content: 1997 12      Goddard      N  13.29  11.19\n"
     ]
    }
   ],
   "source": [
    "n = 17\n",
    "with open(\"SeaIce.txt\", 'r') as input_file:\n",
    "    for j, observation in enumerate(input_file):\n",
    "        if j % n==0:\n",
    "            print('Reading Line: ' + str(j) + ' Content: ' + observation, end=\"\")"
   ]
  },
  {
   "cell_type": "markdown",
   "metadata": {},
   "source": [
    "You can perform random sampling as well."
   ]
  },
  {
   "cell_type": "code",
   "execution_count": 91,
   "metadata": {
    "ExecuteTime": {
     "end_time": "2019-11-12T10:46:44.787480Z",
     "start_time": "2019-11-12T10:46:44.780813Z"
    }
   },
   "outputs": [
    {
     "name": "stdout",
     "output_type": "stream",
     "text": [
      "Reading Line: 34 Content: 2012  1      Goddard      N  13.77  11.87\n",
      "Reading Line: 72 Content: 2014  2      NRTSI-G      N  14.44  12.12\n",
      "Reading Line: 130 Content: 2001  4      Goddard      N  14.86  12.99\n",
      "Reading Line: 132 Content: 2003  4      Goddard      N  14.57  12.38\n",
      "Reading Line: 307 Content: 2003  9      Goddard      N   6.15   4.01\n",
      "Reading Line: 308 Content: 2004  9      Goddard      N   6.05   4.35\n",
      "Reading Line: 319 Content: 1980 10      Goddard      N   9.46   6.42\n",
      "Reading Line: 372 Content: 1997 11      Goddard      N  10.91   9.00\n",
      "Reading Line: 404 Content: 1993 12      Goddard      N  13.52  11.41\n"
     ]
    }
   ],
   "source": [
    "import random\n",
    "sample_size = 0.01\n",
    "with open(\"SeaIce.txt\", 'r') as input_file:\n",
    "    for j, observation in enumerate(input_file):\n",
    "        if random.random()<=sample_size:\n",
    "            print('Reading Line: ' + str(j) + ' Content: ' + observation, end=\"\") "
   ]
  },
  {
   "cell_type": "markdown",
   "metadata": {},
   "source": [
    "A flat file presents the easiest kind of file to work with. \n",
    "\n",
    "A problem with using native Python techniques is that the input isn’t intelligent. For example, when a file contains a header, Python simply reads it as yet more data to process, rather than as a header (not a problem for Pandas!).\n",
    "\n",
    "The least formatted and therefore easiest‐to‐read flat‐file format is the text file. However, a text file also treats all data as strings, so you often have to convert numeric data into other forms.\n",
    "\n",
    "A comma‐separated value (CSV) file provides more formatting and more information, but it requires a little more effort to read.\n",
    "\n",
    "At the high end of flat‐file formatting are custom data formats, such as an Excel file, which contains extensive formatting and could include multiple datasets in a single file.\n",
    "\n",
    "### Reading from a CSV file\n",
    "\n",
    "A CSV file provides more formatting than a simple text file. In fact, CSV files can become quite complicated. There is a standard that defines the format of CSV files, and you can see it at https://tools.ietf.org/html/rfc4180.\n",
    "\n",
    "The ``csv`` module is useful for working with data exported from spreadsheets and databases into text files formatted with fields and records, commonly referred to as comma-separated value (CSV)."
   ]
  },
  {
   "cell_type": "code",
   "execution_count": 92,
   "metadata": {
    "ExecuteTime": {
     "end_time": "2019-11-12T10:47:50.855161Z",
     "start_time": "2019-11-12T10:47:50.819856Z"
    }
   },
   "outputs": [
    {
     "name": "stdout",
     "output_type": "stream",
     "text": [
      "['', 'TV', 'Radio', 'Newspaper', 'Sales']\n",
      "['1', '230.1', '37.8', '69.2', '22.1']\n",
      "['2', '44.5', '39.3', '45.1', '10.4']\n",
      "['3', '17.2', '45.9', '69.3', '9.3']\n",
      "['4', '151.5', '41.3', '58.5', '18.5']\n",
      "['5', '180.8', '10.8', '58.4', '12.9']\n",
      "['6', '8.7', '48.9', '75', '7.2']\n",
      "['7', '57.5', '32.8', '23.5', '11.8']\n",
      "['8', '120.2', '19.6', '11.6', '13.2']\n",
      "['9', '8.6', '2.1', '1', '4.8']\n",
      "['10', '199.8', '2.6', '21.2', '10.6']\n",
      "['11', '66.1', '5.8', '24.2', '8.6']\n",
      "['12', '214.7', '24', '4', '17.4']\n",
      "['13', '23.8', '35.1', '65.9', '9.2']\n",
      "['14', '97.5', '7.6', '7.2', '9.7']\n",
      "['15', '204.1', '32.9', '46', '19']\n",
      "['16', '195.4', '47.7', '52.9', '22.4']\n",
      "['17', '67.8', '36.6', '114', '12.5']\n",
      "['18', '281.4', '39.6', '55.8', '24.4']\n",
      "['19', '69.2', '20.5', '18.3', '11.3']\n",
      "['20', '147.3', '23.9', '19.1', '14.6']\n",
      "['21', '218.4', '27.7', '53.4', '18']\n",
      "['22', '237.4', '5.1', '23.5', '12.5']\n",
      "['23', '13.2', '15.9', '49.6', '5.6']\n",
      "['24', '228.3', '16.9', '26.2', '15.5']\n",
      "['25', '62.3', '12.6', '18.3', '9.7']\n",
      "['26', '262.9', '3.5', '19.5', '12']\n",
      "['27', '142.9', '29.3', '12.6', '15']\n",
      "['28', '240.1', '16.7', '22.9', '15.9']\n",
      "['29', '248.8', '27.1', '22.9', '18.9']\n",
      "['30', '70.6', '16', '40.8', '10.5']\n",
      "['31', '292.9', '28.3', '43.2', '21.4']\n",
      "['32', '112.9', '17.4', '38.6', '11.9']\n",
      "['33', '97.2', '1.5', '30', '9.6']\n",
      "['34', '265.6', '20', '0.3', '17.4']\n",
      "['35', '95.7', '1.4', '7.4', '9.5']\n",
      "['36', '290.7', '4.1', '8.5', '12.8']\n",
      "['37', '266.9', '43.8', '5', '25.4']\n",
      "['38', '74.7', '49.4', '45.7', '14.7']\n",
      "['39', '43.1', '26.7', '35.1', '10.1']\n",
      "['40', '228', '37.7', '32', '21.5']\n",
      "['41', '202.5', '22.3', '31.6', '16.6']\n",
      "['42', '177', '33.4', '38.7', '17.1']\n",
      "['43', '293.6', '27.7', '1.8', '20.7']\n",
      "['44', '206.9', '8.4', '26.4', '12.9']\n",
      "['45', '25.1', '25.7', '43.3', '8.5']\n",
      "['46', '175.1', '22.5', '31.5', '14.9']\n",
      "['47', '89.7', '9.9', '35.7', '10.6']\n",
      "['48', '239.9', '41.5', '18.5', '23.2']\n",
      "['49', '227.2', '15.8', '49.9', '14.8']\n",
      "['50', '66.9', '11.7', '36.8', '9.7']\n",
      "['51', '199.8', '3.1', '34.6', '11.4']\n",
      "['52', '100.4', '9.6', '3.6', '10.7']\n",
      "['53', '216.4', '41.7', '39.6', '22.6']\n",
      "['54', '182.6', '46.2', '58.7', '21.2']\n",
      "['55', '262.7', '28.8', '15.9', '20.2']\n",
      "['56', '198.9', '49.4', '60', '23.7']\n",
      "['57', '7.3', '28.1', '41.4', '5.5']\n",
      "['58', '136.2', '19.2', '16.6', '13.2']\n",
      "['59', '210.8', '49.6', '37.7', '23.8']\n",
      "['60', '210.7', '29.5', '9.3', '18.4']\n",
      "['61', '53.5', '2', '21.4', '8.1']\n",
      "['62', '261.3', '42.7', '54.7', '24.2']\n",
      "['63', '239.3', '15.5', '27.3', '15.7']\n",
      "['64', '102.7', '29.6', '8.4', '14']\n",
      "['65', '131.1', '42.8', '28.9', '18']\n",
      "['66', '69', '9.3', '0.9', '9.3']\n",
      "['67', '31.5', '24.6', '2.2', '9.5']\n",
      "['68', '139.3', '14.5', '10.2', '13.4']\n",
      "['69', '237.4', '27.5', '11', '18.9']\n",
      "['70', '216.8', '43.9', '27.2', '22.3']\n",
      "['71', '199.1', '30.6', '38.7', '18.3']\n",
      "['72', '109.8', '14.3', '31.7', '12.4']\n",
      "['73', '26.8', '33', '19.3', '8.8']\n",
      "['74', '129.4', '5.7', '31.3', '11']\n",
      "['75', '213.4', '24.6', '13.1', '17']\n",
      "['76', '16.9', '43.7', '89.4', '8.7']\n",
      "['77', '27.5', '1.6', '20.7', '6.9']\n",
      "['78', '120.5', '28.5', '14.2', '14.2']\n",
      "['79', '5.4', '29.9', '9.4', '5.3']\n",
      "['80', '116', '7.7', '23.1', '11']\n",
      "['81', '76.4', '26.7', '22.3', '11.8']\n",
      "['82', '239.8', '4.1', '36.9', '12.3']\n",
      "['83', '75.3', '20.3', '32.5', '11.3']\n",
      "['84', '68.4', '44.5', '35.6', '13.6']\n",
      "['85', '213.5', '43', '33.8', '21.7']\n",
      "['86', '193.2', '18.4', '65.7', '15.2']\n",
      "['87', '76.3', '27.5', '16', '12']\n",
      "['88', '110.7', '40.6', '63.2', '16']\n",
      "['89', '88.3', '25.5', '73.4', '12.9']\n",
      "['90', '109.8', '47.8', '51.4', '16.7']\n",
      "['91', '134.3', '4.9', '9.3', '11.2']\n",
      "['92', '28.6', '1.5', '33', '7.3']\n",
      "['93', '217.7', '33.5', '59', '19.4']\n",
      "['94', '250.9', '36.5', '72.3', '22.2']\n",
      "['95', '107.4', '14', '10.9', '11.5']\n",
      "['96', '163.3', '31.6', '52.9', '16.9']\n",
      "['97', '197.6', '3.5', '5.9', '11.7']\n",
      "['98', '184.9', '21', '22', '15.5']\n",
      "['99', '289.7', '42.3', '51.2', '25.4']\n",
      "['100', '135.2', '41.7', '45.9', '17.2']\n",
      "['101', '222.4', '4.3', '49.8', '11.7']\n",
      "['102', '296.4', '36.3', '100.9', '23.8']\n",
      "['103', '280.2', '10.1', '21.4', '14.8']\n",
      "['104', '187.9', '17.2', '17.9', '14.7']\n",
      "['105', '238.2', '34.3', '5.3', '20.7']\n",
      "['106', '137.9', '46.4', '59', '19.2']\n",
      "['107', '25', '11', '29.7', '7.2']\n",
      "['108', '90.4', '0.3', '23.2', '8.7']\n",
      "['109', '13.1', '0.4', '25.6', '5.3']\n",
      "['110', '255.4', '26.9', '5.5', '19.8']\n",
      "['111', '225.8', '8.2', '56.5', '13.4']\n",
      "['112', '241.7', '38', '23.2', '21.8']\n",
      "['113', '175.7', '15.4', '2.4', '14.1']\n",
      "['114', '209.6', '20.6', '10.7', '15.9']\n",
      "['115', '78.2', '46.8', '34.5', '14.6']\n",
      "['116', '75.1', '35', '52.7', '12.6']\n",
      "['117', '139.2', '14.3', '25.6', '12.2']\n",
      "['118', '76.4', '0.8', '14.8', '9.4']\n",
      "['119', '125.7', '36.9', '79.2', '15.9']\n",
      "['120', '19.4', '16', '22.3', '6.6']\n",
      "['121', '141.3', '26.8', '46.2', '15.5']\n",
      "['122', '18.8', '21.7', '50.4', '7']\n",
      "['123', '224', '2.4', '15.6', '11.6']\n",
      "['124', '123.1', '34.6', '12.4', '15.2']\n",
      "['125', '229.5', '32.3', '74.2', '19.7']\n",
      "['126', '87.2', '11.8', '25.9', '10.6']\n",
      "['127', '7.8', '38.9', '50.6', '6.6']\n",
      "['128', '80.2', '0', '9.2', '8.8']\n",
      "['129', '220.3', '49', '3.2', '24.7']\n",
      "['130', '59.6', '12', '43.1', '9.7']\n",
      "['131', '0.7', '39.6', '8.7', '1.6']\n",
      "['132', '265.2', '2.9', '43', '12.7']\n",
      "['133', '8.4', '27.2', '2.1', '5.7']\n",
      "['134', '219.8', '33.5', '45.1', '19.6']\n",
      "['135', '36.9', '38.6', '65.6', '10.8']\n",
      "['136', '48.3', '47', '8.5', '11.6']\n",
      "['137', '25.6', '39', '9.3', '9.5']\n",
      "['138', '273.7', '28.9', '59.7', '20.8']\n",
      "['139', '43', '25.9', '20.5', '9.6']\n",
      "['140', '184.9', '43.9', '1.7', '20.7']\n",
      "['141', '73.4', '17', '12.9', '10.9']\n",
      "['142', '193.7', '35.4', '75.6', '19.2']\n",
      "['143', '220.5', '33.2', '37.9', '20.1']\n",
      "['144', '104.6', '5.7', '34.4', '10.4']\n",
      "['145', '96.2', '14.8', '38.9', '11.4']\n",
      "['146', '140.3', '1.9', '9', '10.3']\n",
      "['147', '240.1', '7.3', '8.7', '13.2']\n",
      "['148', '243.2', '49', '44.3', '25.4']\n",
      "['149', '38', '40.3', '11.9', '10.9']\n",
      "['150', '44.7', '25.8', '20.6', '10.1']\n",
      "['151', '280.7', '13.9', '37', '16.1']\n",
      "['152', '121', '8.4', '48.7', '11.6']\n",
      "['153', '197.6', '23.3', '14.2', '16.6']\n",
      "['154', '171.3', '39.7', '37.7', '19']\n",
      "['155', '187.8', '21.1', '9.5', '15.6']\n",
      "['156', '4.1', '11.6', '5.7', '3.2']\n",
      "['157', '93.9', '43.5', '50.5', '15.3']\n",
      "['158', '149.8', '1.3', '24.3', '10.1']\n",
      "['159', '11.7', '36.9', '45.2', '7.3']\n",
      "['160', '131.7', '18.4', '34.6', '12.9']\n",
      "['161', '172.5', '18.1', '30.7', '14.4']\n",
      "['162', '85.7', '35.8', '49.3', '13.3']\n",
      "['163', '188.4', '18.1', '25.6', '14.9']\n",
      "['164', '163.5', '36.8', '7.4', '18']\n",
      "['165', '117.2', '14.7', '5.4', '11.9']\n",
      "['166', '234.5', '3.4', '84.8', '11.9']\n",
      "['167', '17.9', '37.6', '21.6', '8']\n",
      "['168', '206.8', '5.2', '19.4', '12.2']\n",
      "['169', '215.4', '23.6', '57.6', '17.1']\n",
      "['170', '284.3', '10.6', '6.4', '15']\n",
      "['171', '50', '11.6', '18.4', '8.4']\n",
      "['172', '164.5', '20.9', '47.4', '14.5']\n",
      "['173', '19.6', '20.1', '17', '7.6']\n",
      "['174', '168.4', '7.1', '12.8', '11.7']\n",
      "['175', '222.4', '3.4', '13.1', '11.5']\n",
      "['176', '276.9', '48.9', '41.8', '27']\n",
      "['177', '248.4', '30.2', '20.3', '20.2']\n",
      "['178', '170.2', '7.8', '35.2', '11.7']\n",
      "['179', '276.7', '2.3', '23.7', '11.8']\n",
      "['180', '165.6', '10', '17.6', '12.6']\n",
      "['181', '156.6', '2.6', '8.3', '10.5']\n",
      "['182', '218.5', '5.4', '27.4', '12.2']\n",
      "['183', '56.2', '5.7', '29.7', '8.7']\n",
      "['184', '287.6', '43', '71.8', '26.2']\n",
      "['185', '253.8', '21.3', '30', '17.6']\n",
      "['186', '205', '45.1', '19.6', '22.6']\n",
      "['187', '139.5', '2.1', '26.6', '10.3']\n",
      "['188', '191.1', '28.7', '18.2', '17.3']\n",
      "['189', '286', '13.9', '3.7', '15.9']\n",
      "['190', '18.7', '12.1', '23.4', '6.7']\n",
      "['191', '39.5', '41.1', '5.8', '10.8']\n",
      "['192', '75.5', '10.8', '6', '9.9']\n",
      "['193', '17.2', '4.1', '31.6', '5.9']\n",
      "['194', '166.8', '42', '3.6', '19.6']\n",
      "['195', '149.7', '35.6', '6', '17.3']\n",
      "['196', '38.2', '3.7', '13.8', '7.6']\n",
      "['197', '94.2', '4.9', '8.1', '9.7']\n",
      "['198', '177', '9.3', '6.4', '12.8']\n",
      "['199', '283.6', '42', '66.2', '25.5']\n",
      "['200', '232.1', '8.6', '8.7', '13.4']\n"
     ]
    }
   ],
   "source": [
    "import csv\n",
    "\n",
    "f = open(\"Advertising.csv\", 'r')\n",
    "try:\n",
    "    reader = csv.reader(f)\n",
    "    for row in reader:\n",
    "        print(row)\n",
    "finally:\n",
    "    f.close()"
   ]
  },
  {
   "cell_type": "code",
   "execution_count": 93,
   "metadata": {
    "ExecuteTime": {
     "end_time": "2019-11-12T10:47:51.885357Z",
     "start_time": "2019-11-12T10:47:51.877059Z"
    }
   },
   "outputs": [
    {
     "name": "stdout",
     "output_type": "stream",
     "text": [
      "['', 'TV', 'Radio', 'Newspaper', 'Sales']\n",
      "['1', '230.1', '37.8', '69.2', '22.1']\n",
      "['2', '44.5', '39.3', '45.1', '10.4']\n",
      "['3', '17.2', '45.9', '69.3', '9.3']\n",
      "['4', '151.5', '41.3', '58.5', '18.5']\n",
      "['5', '180.8', '10.8', '58.4', '12.9']\n",
      "['6', '8.7', '48.9', '75', '7.2']\n",
      "['7', '57.5', '32.8', '23.5', '11.8']\n",
      "['8', '120.2', '19.6', '11.6', '13.2']\n",
      "['9', '8.6', '2.1', '1', '4.8']\n",
      "['10', '199.8', '2.6', '21.2', '10.6']\n",
      "['11', '66.1', '5.8', '24.2', '8.6']\n",
      "['12', '214.7', '24', '4', '17.4']\n",
      "['13', '23.8', '35.1', '65.9', '9.2']\n",
      "['14', '97.5', '7.6', '7.2', '9.7']\n",
      "['15', '204.1', '32.9', '46', '19']\n",
      "['16', '195.4', '47.7', '52.9', '22.4']\n",
      "['17', '67.8', '36.6', '114', '12.5']\n",
      "['18', '281.4', '39.6', '55.8', '24.4']\n",
      "['19', '69.2', '20.5', '18.3', '11.3']\n",
      "['20', '147.3', '23.9', '19.1', '14.6']\n",
      "['21', '218.4', '27.7', '53.4', '18']\n",
      "['22', '237.4', '5.1', '23.5', '12.5']\n",
      "['23', '13.2', '15.9', '49.6', '5.6']\n",
      "['24', '228.3', '16.9', '26.2', '15.5']\n",
      "['25', '62.3', '12.6', '18.3', '9.7']\n",
      "['26', '262.9', '3.5', '19.5', '12']\n",
      "['27', '142.9', '29.3', '12.6', '15']\n",
      "['28', '240.1', '16.7', '22.9', '15.9']\n",
      "['29', '248.8', '27.1', '22.9', '18.9']\n",
      "['30', '70.6', '16', '40.8', '10.5']\n",
      "['31', '292.9', '28.3', '43.2', '21.4']\n",
      "['32', '112.9', '17.4', '38.6', '11.9']\n",
      "['33', '97.2', '1.5', '30', '9.6']\n",
      "['34', '265.6', '20', '0.3', '17.4']\n",
      "['35', '95.7', '1.4', '7.4', '9.5']\n",
      "['36', '290.7', '4.1', '8.5', '12.8']\n",
      "['37', '266.9', '43.8', '5', '25.4']\n",
      "['38', '74.7', '49.4', '45.7', '14.7']\n",
      "['39', '43.1', '26.7', '35.1', '10.1']\n",
      "['40', '228', '37.7', '32', '21.5']\n",
      "['41', '202.5', '22.3', '31.6', '16.6']\n",
      "['42', '177', '33.4', '38.7', '17.1']\n",
      "['43', '293.6', '27.7', '1.8', '20.7']\n",
      "['44', '206.9', '8.4', '26.4', '12.9']\n",
      "['45', '25.1', '25.7', '43.3', '8.5']\n",
      "['46', '175.1', '22.5', '31.5', '14.9']\n",
      "['47', '89.7', '9.9', '35.7', '10.6']\n",
      "['48', '239.9', '41.5', '18.5', '23.2']\n",
      "['49', '227.2', '15.8', '49.9', '14.8']\n",
      "['50', '66.9', '11.7', '36.8', '9.7']\n",
      "['51', '199.8', '3.1', '34.6', '11.4']\n",
      "['52', '100.4', '9.6', '3.6', '10.7']\n",
      "['53', '216.4', '41.7', '39.6', '22.6']\n",
      "['54', '182.6', '46.2', '58.7', '21.2']\n",
      "['55', '262.7', '28.8', '15.9', '20.2']\n",
      "['56', '198.9', '49.4', '60', '23.7']\n",
      "['57', '7.3', '28.1', '41.4', '5.5']\n",
      "['58', '136.2', '19.2', '16.6', '13.2']\n",
      "['59', '210.8', '49.6', '37.7', '23.8']\n",
      "['60', '210.7', '29.5', '9.3', '18.4']\n",
      "['61', '53.5', '2', '21.4', '8.1']\n",
      "['62', '261.3', '42.7', '54.7', '24.2']\n",
      "['63', '239.3', '15.5', '27.3', '15.7']\n",
      "['64', '102.7', '29.6', '8.4', '14']\n",
      "['65', '131.1', '42.8', '28.9', '18']\n",
      "['66', '69', '9.3', '0.9', '9.3']\n",
      "['67', '31.5', '24.6', '2.2', '9.5']\n",
      "['68', '139.3', '14.5', '10.2', '13.4']\n",
      "['69', '237.4', '27.5', '11', '18.9']\n",
      "['70', '216.8', '43.9', '27.2', '22.3']\n",
      "['71', '199.1', '30.6', '38.7', '18.3']\n",
      "['72', '109.8', '14.3', '31.7', '12.4']\n",
      "['73', '26.8', '33', '19.3', '8.8']\n",
      "['74', '129.4', '5.7', '31.3', '11']\n",
      "['75', '213.4', '24.6', '13.1', '17']\n",
      "['76', '16.9', '43.7', '89.4', '8.7']\n",
      "['77', '27.5', '1.6', '20.7', '6.9']\n",
      "['78', '120.5', '28.5', '14.2', '14.2']\n",
      "['79', '5.4', '29.9', '9.4', '5.3']\n",
      "['80', '116', '7.7', '23.1', '11']\n",
      "['81', '76.4', '26.7', '22.3', '11.8']\n",
      "['82', '239.8', '4.1', '36.9', '12.3']\n",
      "['83', '75.3', '20.3', '32.5', '11.3']\n",
      "['84', '68.4', '44.5', '35.6', '13.6']\n",
      "['85', '213.5', '43', '33.8', '21.7']\n",
      "['86', '193.2', '18.4', '65.7', '15.2']\n",
      "['87', '76.3', '27.5', '16', '12']\n",
      "['88', '110.7', '40.6', '63.2', '16']\n",
      "['89', '88.3', '25.5', '73.4', '12.9']\n",
      "['90', '109.8', '47.8', '51.4', '16.7']\n",
      "['91', '134.3', '4.9', '9.3', '11.2']\n",
      "['92', '28.6', '1.5', '33', '7.3']\n",
      "['93', '217.7', '33.5', '59', '19.4']\n",
      "['94', '250.9', '36.5', '72.3', '22.2']\n",
      "['95', '107.4', '14', '10.9', '11.5']\n",
      "['96', '163.3', '31.6', '52.9', '16.9']\n",
      "['97', '197.6', '3.5', '5.9', '11.7']\n",
      "['98', '184.9', '21', '22', '15.5']\n",
      "['99', '289.7', '42.3', '51.2', '25.4']\n",
      "['100', '135.2', '41.7', '45.9', '17.2']\n",
      "['101', '222.4', '4.3', '49.8', '11.7']\n",
      "['102', '296.4', '36.3', '100.9', '23.8']\n",
      "['103', '280.2', '10.1', '21.4', '14.8']\n",
      "['104', '187.9', '17.2', '17.9', '14.7']\n",
      "['105', '238.2', '34.3', '5.3', '20.7']\n",
      "['106', '137.9', '46.4', '59', '19.2']\n",
      "['107', '25', '11', '29.7', '7.2']\n",
      "['108', '90.4', '0.3', '23.2', '8.7']\n",
      "['109', '13.1', '0.4', '25.6', '5.3']\n",
      "['110', '255.4', '26.9', '5.5', '19.8']\n",
      "['111', '225.8', '8.2', '56.5', '13.4']\n",
      "['112', '241.7', '38', '23.2', '21.8']\n",
      "['113', '175.7', '15.4', '2.4', '14.1']\n",
      "['114', '209.6', '20.6', '10.7', '15.9']\n",
      "['115', '78.2', '46.8', '34.5', '14.6']\n",
      "['116', '75.1', '35', '52.7', '12.6']\n",
      "['117', '139.2', '14.3', '25.6', '12.2']\n",
      "['118', '76.4', '0.8', '14.8', '9.4']\n",
      "['119', '125.7', '36.9', '79.2', '15.9']\n",
      "['120', '19.4', '16', '22.3', '6.6']\n",
      "['121', '141.3', '26.8', '46.2', '15.5']\n",
      "['122', '18.8', '21.7', '50.4', '7']\n",
      "['123', '224', '2.4', '15.6', '11.6']\n",
      "['124', '123.1', '34.6', '12.4', '15.2']\n",
      "['125', '229.5', '32.3', '74.2', '19.7']\n",
      "['126', '87.2', '11.8', '25.9', '10.6']\n",
      "['127', '7.8', '38.9', '50.6', '6.6']\n",
      "['128', '80.2', '0', '9.2', '8.8']\n",
      "['129', '220.3', '49', '3.2', '24.7']\n",
      "['130', '59.6', '12', '43.1', '9.7']\n",
      "['131', '0.7', '39.6', '8.7', '1.6']\n",
      "['132', '265.2', '2.9', '43', '12.7']\n",
      "['133', '8.4', '27.2', '2.1', '5.7']\n",
      "['134', '219.8', '33.5', '45.1', '19.6']\n",
      "['135', '36.9', '38.6', '65.6', '10.8']\n",
      "['136', '48.3', '47', '8.5', '11.6']\n",
      "['137', '25.6', '39', '9.3', '9.5']\n",
      "['138', '273.7', '28.9', '59.7', '20.8']\n",
      "['139', '43', '25.9', '20.5', '9.6']\n",
      "['140', '184.9', '43.9', '1.7', '20.7']\n",
      "['141', '73.4', '17', '12.9', '10.9']\n",
      "['142', '193.7', '35.4', '75.6', '19.2']\n",
      "['143', '220.5', '33.2', '37.9', '20.1']\n",
      "['144', '104.6', '5.7', '34.4', '10.4']\n",
      "['145', '96.2', '14.8', '38.9', '11.4']\n",
      "['146', '140.3', '1.9', '9', '10.3']\n",
      "['147', '240.1', '7.3', '8.7', '13.2']\n",
      "['148', '243.2', '49', '44.3', '25.4']\n",
      "['149', '38', '40.3', '11.9', '10.9']\n",
      "['150', '44.7', '25.8', '20.6', '10.1']\n",
      "['151', '280.7', '13.9', '37', '16.1']\n",
      "['152', '121', '8.4', '48.7', '11.6']\n",
      "['153', '197.6', '23.3', '14.2', '16.6']\n",
      "['154', '171.3', '39.7', '37.7', '19']\n",
      "['155', '187.8', '21.1', '9.5', '15.6']\n",
      "['156', '4.1', '11.6', '5.7', '3.2']\n",
      "['157', '93.9', '43.5', '50.5', '15.3']\n",
      "['158', '149.8', '1.3', '24.3', '10.1']\n",
      "['159', '11.7', '36.9', '45.2', '7.3']\n",
      "['160', '131.7', '18.4', '34.6', '12.9']\n",
      "['161', '172.5', '18.1', '30.7', '14.4']\n",
      "['162', '85.7', '35.8', '49.3', '13.3']\n",
      "['163', '188.4', '18.1', '25.6', '14.9']\n",
      "['164', '163.5', '36.8', '7.4', '18']\n",
      "['165', '117.2', '14.7', '5.4', '11.9']\n",
      "['166', '234.5', '3.4', '84.8', '11.9']\n",
      "['167', '17.9', '37.6', '21.6', '8']\n",
      "['168', '206.8', '5.2', '19.4', '12.2']\n",
      "['169', '215.4', '23.6', '57.6', '17.1']\n",
      "['170', '284.3', '10.6', '6.4', '15']\n",
      "['171', '50', '11.6', '18.4', '8.4']\n",
      "['172', '164.5', '20.9', '47.4', '14.5']\n",
      "['173', '19.6', '20.1', '17', '7.6']\n",
      "['174', '168.4', '7.1', '12.8', '11.7']\n",
      "['175', '222.4', '3.4', '13.1', '11.5']\n",
      "['176', '276.9', '48.9', '41.8', '27']\n",
      "['177', '248.4', '30.2', '20.3', '20.2']\n",
      "['178', '170.2', '7.8', '35.2', '11.7']\n",
      "['179', '276.7', '2.3', '23.7', '11.8']\n",
      "['180', '165.6', '10', '17.6', '12.6']\n",
      "['181', '156.6', '2.6', '8.3', '10.5']\n",
      "['182', '218.5', '5.4', '27.4', '12.2']\n",
      "['183', '56.2', '5.7', '29.7', '8.7']\n",
      "['184', '287.6', '43', '71.8', '26.2']\n",
      "['185', '253.8', '21.3', '30', '17.6']\n",
      "['186', '205', '45.1', '19.6', '22.6']\n",
      "['187', '139.5', '2.1', '26.6', '10.3']\n",
      "['188', '191.1', '28.7', '18.2', '17.3']\n",
      "['189', '286', '13.9', '3.7', '15.9']\n",
      "['190', '18.7', '12.1', '23.4', '6.7']\n",
      "['191', '39.5', '41.1', '5.8', '10.8']\n",
      "['192', '75.5', '10.8', '6', '9.9']\n",
      "['193', '17.2', '4.1', '31.6', '5.9']\n",
      "['194', '166.8', '42', '3.6', '19.6']\n",
      "['195', '149.7', '35.6', '6', '17.3']\n",
      "['196', '38.2', '3.7', '13.8', '7.6']\n",
      "['197', '94.2', '4.9', '8.1', '9.7']\n",
      "['198', '177', '9.3', '6.4', '12.8']\n",
      "['199', '283.6', '42', '66.2', '25.5']\n",
      "['200', '232.1', '8.6', '8.7', '13.4']\n"
     ]
    }
   ],
   "source": [
    "with open(\"Advertising.csv\", 'r') as input_file:\n",
    "    reader = csv.reader(input_file)\n",
    "    for row in reader:\n",
    "        print(row)"
   ]
  },
  {
   "cell_type": "markdown",
   "metadata": {},
   "source": [
    "When you have data to be imported into some other application, writing ``csv`` files is just as easy as reading them. \n",
    "\n",
    "Use ``writer()`` to create an object for writing, then iterate over the rows, using ``writerow()`` to print them.  "
   ]
  },
  {
   "cell_type": "code",
   "execution_count": 94,
   "metadata": {
    "ExecuteTime": {
     "end_time": "2019-11-12T10:47:55.588350Z",
     "start_time": "2019-11-12T10:47:55.580901Z"
    }
   },
   "outputs": [],
   "source": [
    "import csv\n",
    "\n",
    "ifile  = open(\"Advertising.csv\", 'r')\n",
    "reader = csv.reader(ifile)\n",
    "\n",
    "ofile  = open('test.csv', \"w\")\n",
    "writer = csv.writer(ofile, delimiter=',', lineterminator='\\n')\n",
    "\n",
    "for row in reader:\n",
    "    writer.writerow(row)\n",
    "\n",
    "ifile.close()\n",
    "ofile.close()"
   ]
  },
  {
   "cell_type": "markdown",
   "metadata": {},
   "source": [
    "A more ellegant way of reading a CSV file:\n",
    "+  Wrap the CSV reader in a function that returns a generator\n",
    "+  Use context managers ``with [callable] as [name]`` to ensure that the handle to the file is closed automatically.\n",
    "+  Use the ``csv.DictReader`` class when headers are present (otherwise just use ``csv.reader``)"
   ]
  },
  {
   "cell_type": "code",
   "execution_count": 95,
   "metadata": {
    "ExecuteTime": {
     "end_time": "2019-11-12T10:48:15.498607Z",
     "start_time": "2019-11-12T10:48:15.491121Z"
    }
   },
   "outputs": [
    {
     "name": "stdout",
     "output_type": "stream",
     "text": [
      "OrderedDict([('', '1'), ('TV', '230.1'), ('Radio', '37.8'), ('Newspaper', '69.2'), ('Sales', '22.1')])\n",
      "OrderedDict([('', '2'), ('TV', '44.5'), ('Radio', '39.3'), ('Newspaper', '45.1'), ('Sales', '10.4')])\n",
      "OrderedDict([('', '3'), ('TV', '17.2'), ('Radio', '45.9'), ('Newspaper', '69.3'), ('Sales', '9.3')])\n",
      "OrderedDict([('', '4'), ('TV', '151.5'), ('Radio', '41.3'), ('Newspaper', '58.5'), ('Sales', '18.5')])\n",
      "OrderedDict([('', '5'), ('TV', '180.8'), ('Radio', '10.8'), ('Newspaper', '58.4'), ('Sales', '12.9')])\n",
      "OrderedDict([('', '6'), ('TV', '8.7'), ('Radio', '48.9'), ('Newspaper', '75'), ('Sales', '7.2')])\n",
      "OrderedDict([('', '7'), ('TV', '57.5'), ('Radio', '32.8'), ('Newspaper', '23.5'), ('Sales', '11.8')])\n",
      "OrderedDict([('', '8'), ('TV', '120.2'), ('Radio', '19.6'), ('Newspaper', '11.6'), ('Sales', '13.2')])\n",
      "OrderedDict([('', '9'), ('TV', '8.6'), ('Radio', '2.1'), ('Newspaper', '1'), ('Sales', '4.8')])\n",
      "OrderedDict([('', '10'), ('TV', '199.8'), ('Radio', '2.6'), ('Newspaper', '21.2'), ('Sales', '10.6')])\n"
     ]
    }
   ],
   "source": [
    "import csv\n",
    "\n",
    "ADV = 'Advertising.csv'\n",
    "\n",
    "def read_data(path):\n",
    "    with open(path, 'r') as data:\n",
    "        reader = csv.DictReader(data)\n",
    "        for row in reader:\n",
    "            yield row\n",
    "\n",
    "for idx, row in enumerate(read_data(ADV)):\n",
    "    if idx < 10: print(row)\n",
    "    else: break"
   ]
  },
  {
   "cell_type": "markdown",
   "metadata": {},
   "source": [
    "The file is not opened, read, or parsed until you need it. This is powerful because it means that even for much larger data sets you will have efficient, portable code. "
   ]
  },
  {
   "cell_type": "code",
   "execution_count": 96,
   "metadata": {
    "ExecuteTime": {
     "end_time": "2019-11-12T10:48:17.472750Z",
     "start_time": "2019-11-12T10:48:17.469650Z"
    }
   },
   "outputs": [
    {
     "name": "stdout",
     "output_type": "stream",
     "text": [
      "<generator object read_data at 0x109230728>\n"
     ]
    }
   ],
   "source": [
    "data = read_data(ADV)\n",
    "print(data)"
   ]
  },
  {
   "cell_type": "markdown",
   "metadata": {},
   "source": [
    "### Some goodies"
   ]
  },
  {
   "cell_type": "code",
   "execution_count": 97,
   "metadata": {
    "ExecuteTime": {
     "end_time": "2019-11-12T10:48:22.029125Z",
     "start_time": "2019-11-12T10:48:19.661965Z"
    }
   },
   "outputs": [
    {
     "name": "stdout",
     "output_type": "stream",
     "text": [
      "Requirement already satisfied: tqdm in /Users/jordivitria/anaconda3/lib/python3.6/site-packages (4.29.1)\r\n"
     ]
    }
   ],
   "source": [
    "!pip install tqdm "
   ]
  },
  {
   "cell_type": "code",
   "execution_count": 98,
   "metadata": {
    "ExecuteTime": {
     "end_time": "2019-11-12T10:48:33.401044Z",
     "start_time": "2019-11-12T10:48:22.031454Z"
    }
   },
   "outputs": [
    {
     "name": "stderr",
     "output_type": "stream",
     "text": [
      "100%|██████████| 1000/1000 [00:11<00:00, 88.13it/s]\n"
     ]
    }
   ],
   "source": [
    "import tqdm\n",
    "from time import sleep\n",
    "text = \"\"\n",
    "for char in tqdm.tqdm(range(1000)):\n",
    "    sleep(0.01)"
   ]
  }
 ],
 "metadata": {
  "kernelspec": {
   "display_name": "Python 3",
   "language": "python",
   "name": "python3"
  },
  "language_info": {
   "codemirror_mode": {
    "name": "ipython",
    "version": 3
   },
   "file_extension": ".py",
   "mimetype": "text/x-python",
   "name": "python",
   "nbconvert_exporter": "python",
   "pygments_lexer": "ipython3",
   "version": "3.6.7"
  },
  "toc": {
   "base_numbering": 1,
   "nav_menu": {},
   "number_sections": true,
   "sideBar": true,
   "skip_h1_title": false,
   "title_cell": "Table of Contents",
   "title_sidebar": "Contents",
   "toc_cell": false,
   "toc_position": {},
   "toc_section_display": true,
   "toc_window_display": false
  },
  "widgets": {
   "state": {},
   "version": "1.1.1"
  }
 },
 "nbformat": 4,
 "nbformat_minor": 1
}
